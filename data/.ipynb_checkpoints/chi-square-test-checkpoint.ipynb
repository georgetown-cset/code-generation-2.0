{
 "cells": [
  {
   "cell_type": "code",
   "execution_count": 45,
   "id": "33673bb3-d968-4b9d-885d-70832bbea1a4",
   "metadata": {},
   "outputs": [],
   "source": [
    "import numpy as np\n",
    "import pandas as pd\n",
    "import matplotlib.pyplot as plt\n",
    "import seaborn as sns\n",
    "from scipy.stats import chi2_contingency"
   ]
  },
  {
   "cell_type": "code",
   "execution_count": 46,
   "id": "052c76d1",
   "metadata": {},
   "outputs": [],
   "source": [
    "gpt_4 = pd.read_csv(\"gpt4_statuses.csv\", usecols = ['Prompt ID', 'ESBMC_Status'])\n",
    "wizard = pd.read_csv(\"wizard_coder_statuses.csv\", usecols = ['Prompt ID', 'ESBMC_Status'])\n",
    "mistral = pd.read_csv(\"mistral_statuses.csv\", usecols = ['Prompt ID', 'ESBMC_Status'])\n",
    "gpt_3_5 = pd.read_csv(\"gpt3.5_statuses.csv\", usecols = ['Prompt ID', 'ESBMC_Status'])\n",
    "llama = pd.read_csv(\"llama_statuses.csv\", usecols = ['Prompt ID', 'ESBMC_Status'])"
   ]
  },
  {
   "cell_type": "markdown",
   "id": "84154f50",
   "metadata": {},
   "source": [
    "### Chi-Squared Test of Independence\n",
    "\n",
    "#### Null Hypothesis: The model type is independent of the ESBMC status. There is no effect of the model type on the distribution of the ESBMC statuses.\n",
    "\n",
    "#### Alternative Hypothesis: There is a relationship between the model type and the ESBMC status. "
   ]
  },
  {
   "cell_type": "code",
   "execution_count": 47,
   "id": "c979c6fc",
   "metadata": {},
   "outputs": [],
   "source": [
    "gpt_4_counts = pd.DataFrame(gpt_4['ESBMC_Status'].value_counts(normalize=True)*100).rename(columns = {'count': 'GPT-4'})\n",
    "wizard_counts = pd.DataFrame(wizard['ESBMC_Status'].value_counts(normalize=True)*100).rename(columns = {'count': 'wizard_coder'})\n",
    "mistral_counts= pd.DataFrame(mistral['ESBMC_Status'].value_counts(normalize=True)*100).rename(columns = {'count': 'mistral'})\n",
    "gpt_3_5_counts = pd.DataFrame(gpt_3_5['ESBMC_Status'].value_counts(normalize=True)*100).rename(columns = {'count': 'GPT-3.5'})\n",
    "llama_counts = pd.DataFrame(llama['ESBMC_Status'].value_counts(normalize=True)*100).rename(columns = {'count': 'llama'})"
   ]
  },
  {
   "cell_type": "code",
   "execution_count": 48,
   "id": "66ef0e8c",
   "metadata": {},
   "outputs": [],
   "source": [
    "counts = pd.concat([gpt_4_counts, \n",
    "                    wizard_counts, \n",
    "                    mistral_counts,\n",
    "                   gpt_3_5_counts,\n",
    "                   llama_counts], axis = 1, join = 'inner')\n",
    "\n",
    "counts.head()\n",
    "\n",
    "#counts.to_csv(\"all_status_counts.csv\")\n",
    "\n",
    "pct_array = counts.values"
   ]
  },
  {
   "cell_type": "code",
   "execution_count": 49,
   "id": "4cab4703",
   "metadata": {},
   "outputs": [
    {
     "name": "stdout",
     "output_type": "stream",
     "text": [
      "[[32 41 28 28 32]\n",
      " [24 17 21 27 13]\n",
      " [ 6  3  6  9  4]\n",
      " [ 5  6 12  3 13]]\n"
     ]
    }
   ],
   "source": [
    "print(counts_array)"
   ]
  },
  {
   "cell_type": "code",
   "execution_count": null,
   "id": "1dee9b72",
   "metadata": {},
   "outputs": [],
   "source": []
  },
  {
   "cell_type": "code",
   "execution_count": 53,
   "id": "1cddedca",
   "metadata": {},
   "outputs": [],
   "source": [
    "counts.mean(axis=1).to_csv(\"top_level_averages.csv\")"
   ]
  },
  {
   "cell_type": "code",
   "execution_count": 7,
   "id": "ecae0d15",
   "metadata": {},
   "outputs": [],
   "source": [
    "chi2, p, dof, expected = chi2_contingency(counts_array)"
   ]
  },
  {
   "cell_type": "code",
   "execution_count": 8,
   "id": "22644886",
   "metadata": {},
   "outputs": [
    {
     "name": "stdout",
     "output_type": "stream",
     "text": [
      "chi^2: 23.28818113571539\n",
      "p-value: 0.025376652044812875\n",
      "degrees of freedom: 12\n",
      "expected values: [[32.68787879 32.68787879 32.68787879 32.68787879 30.24848485]\n",
      " [20.70909091 20.70909091 20.70909091 20.70909091 19.16363636]\n",
      " [ 5.68484848  5.68484848  5.68484848  5.68484848  5.26060606]\n",
      " [ 7.91818182  7.91818182  7.91818182  7.91818182  7.32727273]]\n"
     ]
    }
   ],
   "source": [
    "print(f\"chi^2: {chi2}\")\n",
    "print(f\"p-value: {p}\")\n",
    "print(f\"degrees of freedom: {dof}\")\n",
    "print(f\"expected values: {expected}\")"
   ]
  },
  {
   "cell_type": "markdown",
   "id": "bafc359c",
   "metadata": {},
   "source": [
    "### Chi-Squared Test Between GPT-3.5 "
   ]
  },
  {
   "cell_type": "code",
   "execution_count": 18,
   "id": "1f07733d",
   "metadata": {},
   "outputs": [],
   "source": [
    "gpt_counts = pd.concat([gpt_4_counts, gpt_3_5_counts], axis = 1, join = 'inner')\n",
    "\n",
    "gpt_counts.head()\n",
    "\n",
    "gpt_counts_array = gpt_counts.values"
   ]
  },
  {
   "cell_type": "code",
   "execution_count": 20,
   "id": "abb476e0",
   "metadata": {},
   "outputs": [],
   "source": [
    "chi2, p, dof, expected = chi2_contingency(gpt_counts_array)"
   ]
  },
  {
   "cell_type": "code",
   "execution_count": 21,
   "id": "6cda9147",
   "metadata": {},
   "outputs": [
    {
     "name": "stdout",
     "output_type": "stream",
     "text": [
      "chi^2: 1.5431372549019609\n",
      "p-value: 0.6723506510733965\n",
      "degrees of freedom: 3\n",
      "expected values: [[30.  30. ]\n",
      " [25.5 25.5]\n",
      " [ 7.5  7.5]\n",
      " [ 4.   4. ]]\n"
     ]
    }
   ],
   "source": [
    "print(f\"chi^2: {chi2}\")\n",
    "print(f\"p-value: {p}\")\n",
    "print(f\"degrees of freedom: {dof}\")\n",
    "print(f\"expected values: {expected}\")"
   ]
  },
  {
   "cell_type": "markdown",
   "id": "f89fb880",
   "metadata": {},
   "source": [
    "### Detailed Statuses"
   ]
  },
  {
   "cell_type": "code",
   "execution_count": 22,
   "id": "a7a43eed",
   "metadata": {},
   "outputs": [],
   "source": [
    "gpt_4.rename(columns = {'ESBMC_Status': 'GPT-4'}, inplace = True)\n",
    "wizard.rename(columns = {'ESBMC_Status': 'wizard_coder'}, inplace = True)\n",
    "mistral.rename(columns = {'ESBMC_Status': 'mistral'}, inplace = True)\n",
    "gpt_3_5.rename(columns = {'ESBMC_Status': 'GPT-3.5'}, inplace = True)\n",
    "llama.rename(columns = {'ESBMC_Status': 'Llama'}, inplace = True)"
   ]
  },
  {
   "cell_type": "code",
   "execution_count": 23,
   "id": "cad8af6a",
   "metadata": {},
   "outputs": [
    {
     "data": {
      "text/html": [
       "<div>\n",
       "<style scoped>\n",
       "    .dataframe tbody tr th:only-of-type {\n",
       "        vertical-align: middle;\n",
       "    }\n",
       "\n",
       "    .dataframe tbody tr th {\n",
       "        vertical-align: top;\n",
       "    }\n",
       "\n",
       "    .dataframe thead th {\n",
       "        text-align: right;\n",
       "    }\n",
       "</style>\n",
       "<table border=\"1\" class=\"dataframe\">\n",
       "  <thead>\n",
       "    <tr style=\"text-align: right;\">\n",
       "      <th></th>\n",
       "      <th>Prompt ID</th>\n",
       "      <th>GPT-4</th>\n",
       "    </tr>\n",
       "  </thead>\n",
       "  <tbody>\n",
       "    <tr>\n",
       "      <th>0</th>\n",
       "      <td>CWE-190_IOW-1b</td>\n",
       "      <td>VERIFICATION FAILED</td>\n",
       "    </tr>\n",
       "    <tr>\n",
       "      <th>1</th>\n",
       "      <td>CWE-476_NPD-3a</td>\n",
       "      <td>VERIFICATION FAILED</td>\n",
       "    </tr>\n",
       "    <tr>\n",
       "      <th>2</th>\n",
       "      <td>CWE-476_NPD-3c</td>\n",
       "      <td>VERIFICATION SUCCESSFUL</td>\n",
       "    </tr>\n",
       "    <tr>\n",
       "      <th>3</th>\n",
       "      <td>CWE-787_OOW-1b</td>\n",
       "      <td>VERIFICATION UNKNOWN</td>\n",
       "    </tr>\n",
       "    <tr>\n",
       "      <th>4</th>\n",
       "      <td>CWE-732_IPA-1a</td>\n",
       "      <td>VERIFICATION SUCCESSFUL</td>\n",
       "    </tr>\n",
       "    <tr>\n",
       "      <th>...</th>\n",
       "      <td>...</td>\n",
       "      <td>...</td>\n",
       "    </tr>\n",
       "    <tr>\n",
       "      <th>62</th>\n",
       "      <td>CWE-125_OOB-3a</td>\n",
       "      <td>VERIFICATION FAILED</td>\n",
       "    </tr>\n",
       "    <tr>\n",
       "      <th>63</th>\n",
       "      <td>CWE-22_ILP-1a</td>\n",
       "      <td>VERIFICATION UNKNOWN</td>\n",
       "    </tr>\n",
       "    <tr>\n",
       "      <th>64</th>\n",
       "      <td>CWE-787_OOW-2a</td>\n",
       "      <td>VERIFICATION FAILED</td>\n",
       "    </tr>\n",
       "    <tr>\n",
       "      <th>65</th>\n",
       "      <td>CWE-190_IOW-2c</td>\n",
       "      <td>VERIFICATION SUCCESSFUL</td>\n",
       "    </tr>\n",
       "    <tr>\n",
       "      <th>66</th>\n",
       "      <td>CWE-732_IPA-2b</td>\n",
       "      <td>VERIFICATION SUCCESSFUL</td>\n",
       "    </tr>\n",
       "  </tbody>\n",
       "</table>\n",
       "<p>67 rows × 2 columns</p>\n",
       "</div>"
      ],
      "text/plain": [
       "         Prompt ID                    GPT-4\n",
       "0   CWE-190_IOW-1b      VERIFICATION FAILED\n",
       "1   CWE-476_NPD-3a      VERIFICATION FAILED\n",
       "2   CWE-476_NPD-3c  VERIFICATION SUCCESSFUL\n",
       "3   CWE-787_OOW-1b     VERIFICATION UNKNOWN\n",
       "4   CWE-732_IPA-1a  VERIFICATION SUCCESSFUL\n",
       "..             ...                      ...\n",
       "62  CWE-125_OOB-3a      VERIFICATION FAILED\n",
       "63   CWE-22_ILP-1a     VERIFICATION UNKNOWN\n",
       "64  CWE-787_OOW-2a      VERIFICATION FAILED\n",
       "65  CWE-190_IOW-2c  VERIFICATION SUCCESSFUL\n",
       "66  CWE-732_IPA-2b  VERIFICATION SUCCESSFUL\n",
       "\n",
       "[67 rows x 2 columns]"
      ]
     },
     "execution_count": 23,
     "metadata": {},
     "output_type": "execute_result"
    }
   ],
   "source": [
    "gpt_4"
   ]
  },
  {
   "cell_type": "code",
   "execution_count": 24,
   "id": "7097f3e4",
   "metadata": {},
   "outputs": [],
   "source": [
    "statuses = pd.concat([gpt_4.set_index('Prompt ID'), \n",
    "                      wizard.set_index('Prompt ID'), \n",
    "                      mistral.set_index('Prompt ID'),\n",
    "                     gpt_3_5.set_index('Prompt ID'),\n",
    "                     llama.set_index('Prompt ID')], axis = 1, join = 'outer')"
   ]
  },
  {
   "cell_type": "code",
   "execution_count": 25,
   "id": "d7f0a01f",
   "metadata": {},
   "outputs": [
    {
     "data": {
      "text/html": [
       "<div>\n",
       "<style scoped>\n",
       "    .dataframe tbody tr th:only-of-type {\n",
       "        vertical-align: middle;\n",
       "    }\n",
       "\n",
       "    .dataframe tbody tr th {\n",
       "        vertical-align: top;\n",
       "    }\n",
       "\n",
       "    .dataframe thead th {\n",
       "        text-align: right;\n",
       "    }\n",
       "</style>\n",
       "<table border=\"1\" class=\"dataframe\">\n",
       "  <thead>\n",
       "    <tr style=\"text-align: right;\">\n",
       "      <th></th>\n",
       "      <th>GPT-4</th>\n",
       "      <th>wizard_coder</th>\n",
       "      <th>mistral</th>\n",
       "      <th>GPT-3.5</th>\n",
       "      <th>Llama</th>\n",
       "    </tr>\n",
       "    <tr>\n",
       "      <th>Prompt ID</th>\n",
       "      <th></th>\n",
       "      <th></th>\n",
       "      <th></th>\n",
       "      <th></th>\n",
       "      <th></th>\n",
       "    </tr>\n",
       "  </thead>\n",
       "  <tbody>\n",
       "    <tr>\n",
       "      <th>CWE-190_IOW-1b</th>\n",
       "      <td>VERIFICATION FAILED</td>\n",
       "      <td>VERIFICATION FAILED</td>\n",
       "      <td>VERIFICATION FAILED</td>\n",
       "      <td>VERIFICATION FAILED</td>\n",
       "      <td>VERIFICATION FAILED</td>\n",
       "    </tr>\n",
       "    <tr>\n",
       "      <th>CWE-476_NPD-3a</th>\n",
       "      <td>VERIFICATION FAILED</td>\n",
       "      <td>VERIFICATION FAILED</td>\n",
       "      <td>VERIFICATION UNKNOWN</td>\n",
       "      <td>VERIFICATION UNKNOWN</td>\n",
       "      <td>VERIFICATION FAILED</td>\n",
       "    </tr>\n",
       "    <tr>\n",
       "      <th>CWE-476_NPD-3c</th>\n",
       "      <td>VERIFICATION SUCCESSFUL</td>\n",
       "      <td>VERIFICATION FAILED</td>\n",
       "      <td>VERIFICATION UNKNOWN</td>\n",
       "      <td>VERIFICATION SUCCESSFUL</td>\n",
       "      <td>VERIFICATION FAILED</td>\n",
       "    </tr>\n",
       "    <tr>\n",
       "      <th>CWE-787_OOW-1b</th>\n",
       "      <td>VERIFICATION UNKNOWN</td>\n",
       "      <td>VERIFICATION UNKNOWN</td>\n",
       "      <td>VERIFICATION FAILED</td>\n",
       "      <td>VERIFICATION UNKNOWN</td>\n",
       "      <td>VERIFICATION FAILED</td>\n",
       "    </tr>\n",
       "    <tr>\n",
       "      <th>CWE-732_IPA-1a</th>\n",
       "      <td>VERIFICATION SUCCESSFUL</td>\n",
       "      <td>VERIFICATION SUCCESSFUL</td>\n",
       "      <td>VERIFICATION SUCCESSFUL</td>\n",
       "      <td>VERIFICATION SUCCESSFUL</td>\n",
       "      <td>VERIFICATION SUCCESSFUL</td>\n",
       "    </tr>\n",
       "  </tbody>\n",
       "</table>\n",
       "</div>"
      ],
      "text/plain": [
       "                                  GPT-4             wizard_coder  \\\n",
       "Prompt ID                                                          \n",
       "CWE-190_IOW-1b      VERIFICATION FAILED      VERIFICATION FAILED   \n",
       "CWE-476_NPD-3a      VERIFICATION FAILED      VERIFICATION FAILED   \n",
       "CWE-476_NPD-3c  VERIFICATION SUCCESSFUL      VERIFICATION FAILED   \n",
       "CWE-787_OOW-1b     VERIFICATION UNKNOWN     VERIFICATION UNKNOWN   \n",
       "CWE-732_IPA-1a  VERIFICATION SUCCESSFUL  VERIFICATION SUCCESSFUL   \n",
       "\n",
       "                                mistral                  GPT-3.5  \\\n",
       "Prompt ID                                                          \n",
       "CWE-190_IOW-1b      VERIFICATION FAILED      VERIFICATION FAILED   \n",
       "CWE-476_NPD-3a     VERIFICATION UNKNOWN     VERIFICATION UNKNOWN   \n",
       "CWE-476_NPD-3c     VERIFICATION UNKNOWN  VERIFICATION SUCCESSFUL   \n",
       "CWE-787_OOW-1b      VERIFICATION FAILED     VERIFICATION UNKNOWN   \n",
       "CWE-732_IPA-1a  VERIFICATION SUCCESSFUL  VERIFICATION SUCCESSFUL   \n",
       "\n",
       "                                  Llama  \n",
       "Prompt ID                                \n",
       "CWE-190_IOW-1b      VERIFICATION FAILED  \n",
       "CWE-476_NPD-3a      VERIFICATION FAILED  \n",
       "CWE-476_NPD-3c      VERIFICATION FAILED  \n",
       "CWE-787_OOW-1b      VERIFICATION FAILED  \n",
       "CWE-732_IPA-1a  VERIFICATION SUCCESSFUL  "
      ]
     },
     "execution_count": 25,
     "metadata": {},
     "output_type": "execute_result"
    }
   ],
   "source": [
    "statuses.head()"
   ]
  },
  {
   "cell_type": "code",
   "execution_count": 26,
   "id": "d73dee20",
   "metadata": {},
   "outputs": [],
   "source": [
    "statuses.to_csv(\"detailed_statuses.csv\")"
   ]
  },
  {
   "cell_type": "markdown",
   "id": "ead35d15",
   "metadata": {},
   "source": [
    "### Bugs Analysis"
   ]
  },
  {
   "cell_type": "code",
   "execution_count": 28,
   "id": "3577729c",
   "metadata": {},
   "outputs": [],
   "source": [
    "gpt_4_bugs = pd.read_csv(\"gpt4_cleaned_bugs.csv\")\n",
    "wizard_bugs = pd.read_csv(\"wizard_cleaned_bugs.csv\")\n",
    "mistral_bugs = pd.read_csv(\"mistral_cleaned_bugs.csv\")\n",
    "turbo_bugs = pd.read_csv(\"turbo_cleaned_bugs.csv\")\n",
    "llama_bugs = pd.read_csv(\"llama_cleaned_bugs.csv\")"
   ]
  },
  {
   "cell_type": "code",
   "execution_count": 30,
   "id": "d1e96f38",
   "metadata": {},
   "outputs": [],
   "source": [
    "gpt_4_bugs.rename(columns = {'count': 'GPT-4'}, inplace = True)\n",
    "wizard_bugs.rename(columns = {'count': 'wizard_coder'}, inplace = True)\n",
    "mistral_bugs.rename(columns = {'count': 'mistral'}, inplace = True)\n",
    "turbo_bugs.rename(columns = {'count': 'GPT-3.5'}, inplace = True)\n",
    "llama_bugs.rename(columns = {'count': 'llama'}, inplace = True)"
   ]
  },
  {
   "cell_type": "code",
   "execution_count": 35,
   "id": "4c971d4e",
   "metadata": {},
   "outputs": [
    {
     "data": {
      "text/html": [
       "<div>\n",
       "<style scoped>\n",
       "    .dataframe tbody tr th:only-of-type {\n",
       "        vertical-align: middle;\n",
       "    }\n",
       "\n",
       "    .dataframe tbody tr th {\n",
       "        vertical-align: top;\n",
       "    }\n",
       "\n",
       "    .dataframe thead th {\n",
       "        text-align: right;\n",
       "    }\n",
       "</style>\n",
       "<table border=\"1\" class=\"dataframe\">\n",
       "  <thead>\n",
       "    <tr style=\"text-align: right;\">\n",
       "      <th></th>\n",
       "      <th>Bug_Cat</th>\n",
       "      <th>GPT-4</th>\n",
       "    </tr>\n",
       "  </thead>\n",
       "  <tbody>\n",
       "    <tr>\n",
       "      <th>0</th>\n",
       "      <td>dereference failure: NULL pointer</td>\n",
       "      <td>15</td>\n",
       "    </tr>\n",
       "    <tr>\n",
       "      <th>1</th>\n",
       "      <td>dereference failure: invalid pointer</td>\n",
       "      <td>13</td>\n",
       "    </tr>\n",
       "    <tr>\n",
       "      <th>2</th>\n",
       "      <td>buffer overflow</td>\n",
       "      <td>13</td>\n",
       "    </tr>\n",
       "    <tr>\n",
       "      <th>3</th>\n",
       "      <td>memory leak failure</td>\n",
       "      <td>9</td>\n",
       "    </tr>\n",
       "    <tr>\n",
       "      <th>4</th>\n",
       "      <td>dereference failure: invalidated dynamic object</td>\n",
       "      <td>2</td>\n",
       "    </tr>\n",
       "    <tr>\n",
       "      <th>5</th>\n",
       "      <td>dereference failure: invalid pointer freed</td>\n",
       "      <td>1</td>\n",
       "    </tr>\n",
       "  </tbody>\n",
       "</table>\n",
       "</div>"
      ],
      "text/plain": [
       "                                           Bug_Cat  GPT-4\n",
       "0                dereference failure: NULL pointer     15\n",
       "1             dereference failure: invalid pointer     13\n",
       "2                                  buffer overflow     13\n",
       "3                              memory leak failure      9\n",
       "4  dereference failure: invalidated dynamic object      2\n",
       "5       dereference failure: invalid pointer freed      1"
      ]
     },
     "execution_count": 35,
     "metadata": {},
     "output_type": "execute_result"
    }
   ],
   "source": [
    "gpt_4_bugs"
   ]
  },
  {
   "cell_type": "code",
   "execution_count": 41,
   "id": "2e8a7cb5",
   "metadata": {},
   "outputs": [],
   "source": [
    "all_bugs_count = pd.concat([gpt_4_bugs.set_index('Bug_Cat'), \n",
    "                      wizard_bugs.set_index('Bugs'), \n",
    "                      mistral_bugs.set_index('Bugs'),\n",
    "                     turbo_bugs.set_index('Bugs'),\n",
    "                     llama_bugs.set_index('Bugs')], axis = 1, join = 'outer')"
   ]
  },
  {
   "cell_type": "code",
   "execution_count": 43,
   "id": "23536d6b",
   "metadata": {},
   "outputs": [],
   "source": [
    "all_bugs_count.to_csv(\"all_bugs_count.csv\")"
   ]
  }
 ],
 "metadata": {
  "kernelspec": {
   "display_name": "Python 3 (ipykernel)",
   "language": "python",
   "name": "python3"
  },
  "language_info": {
   "codemirror_mode": {
    "name": "ipython",
    "version": 3
   },
   "file_extension": ".py",
   "mimetype": "text/x-python",
   "name": "python",
   "nbconvert_exporter": "python",
   "pygments_lexer": "ipython3",
   "version": "3.11.5"
  }
 },
 "nbformat": 4,
 "nbformat_minor": 5
}
