{
 "cells": [
  {
   "cell_type": "code",
   "execution_count": 42,
   "id": "33673bb3-d968-4b9d-885d-70832bbea1a4",
   "metadata": {},
   "outputs": [],
   "source": [
    "import numpy as np\n",
    "import pandas as pd\n",
    "import matplotlib.pyplot as plt\n",
    "import seaborn as sns\n",
    "from scipy.stats import chi2_contingency"
   ]
  },
  {
   "cell_type": "code",
   "execution_count": 43,
   "id": "052c76d1",
   "metadata": {},
   "outputs": [],
   "source": [
    "gpt_4 = pd.read_csv(\"gpt4_statuses.csv\", usecols = ['Prompt ID', 'ESBMC_Status'])\n",
    "wizard = pd.read_csv(\"wizard_coder_statuses.csv\", usecols = ['Prompt ID', 'ESBMC_Status'])\n",
    "mistral = pd.read_csv(\"mistral_statuses.csv\", usecols = ['Prompt ID', 'ESBMC_Status'])\n",
    "gpt_3_5 = pd.read_csv(\"gpt3.5_statuses.csv\", usecols = ['Prompt ID', 'ESBMC_Status'])\n",
    "llama = pd.read_csv(\"llama_statuses.csv\", usecols = ['Prompt ID', 'ESBMC_Status'])"
   ]
  },
  {
   "cell_type": "markdown",
   "id": "84154f50",
   "metadata": {},
   "source": [
    "### Chi-Squared Test of Independence\n",
    "\n",
    "#### Null Hypothesis: The model type is independent of the ESBMC status. There is no effect of the model type on the distribution of the ESBMC statuses.\n",
    "\n",
    "#### Alternative Hypothesis: There is a relationship between the model type and the ESBMC status. "
   ]
  },
  {
   "cell_type": "code",
   "execution_count": 44,
   "id": "c979c6fc",
   "metadata": {},
   "outputs": [],
   "source": [
    "gpt_4_counts = pd.DataFrame(gpt_4['ESBMC_Status'].value_counts()).rename(columns = {'count': 'GPT-4'})\n",
    "wizard_counts = pd.DataFrame(wizard['ESBMC_Status'].value_counts()).rename(columns = {'count': 'wizard_coder'})\n",
    "mistral_counts= pd.DataFrame(mistral['ESBMC_Status'].value_counts()).rename(columns = {'count': 'mistral'})\n",
    "gpt_3_5_counts = pd.DataFrame(gpt_3_5['ESBMC_Status'].value_counts()).rename(columns = {'count': 'GPT-3.5'})\n",
    "llama_counts = pd.DataFrame(llama['ESBMC_Status'].value_counts()).rename(columns = {'count': 'llama'})"
   ]
  },
  {
   "cell_type": "code",
   "execution_count": 45,
   "id": "51b4d528",
   "metadata": {},
   "outputs": [
    {
     "data": {
      "text/html": [
       "<div>\n",
       "<style scoped>\n",
       "    .dataframe tbody tr th:only-of-type {\n",
       "        vertical-align: middle;\n",
       "    }\n",
       "\n",
       "    .dataframe tbody tr th {\n",
       "        vertical-align: top;\n",
       "    }\n",
       "\n",
       "    .dataframe thead th {\n",
       "        text-align: right;\n",
       "    }\n",
       "</style>\n",
       "<table border=\"1\" class=\"dataframe\">\n",
       "  <thead>\n",
       "    <tr style=\"text-align: right;\">\n",
       "      <th></th>\n",
       "      <th>llama</th>\n",
       "    </tr>\n",
       "    <tr>\n",
       "      <th>ESBMC_Status</th>\n",
       "      <th></th>\n",
       "    </tr>\n",
       "  </thead>\n",
       "  <tbody>\n",
       "    <tr>\n",
       "      <th>VERIFICATION FAILED</th>\n",
       "      <td>32</td>\n",
       "    </tr>\n",
       "    <tr>\n",
       "      <th>VERIFICATION SUCCESSFUL</th>\n",
       "      <td>13</td>\n",
       "    </tr>\n",
       "    <tr>\n",
       "      <th>ERROR</th>\n",
       "      <td>13</td>\n",
       "    </tr>\n",
       "    <tr>\n",
       "      <th>VERIFICATION UNKNOWN</th>\n",
       "      <td>4</td>\n",
       "    </tr>\n",
       "  </tbody>\n",
       "</table>\n",
       "</div>"
      ],
      "text/plain": [
       "                         llama\n",
       "ESBMC_Status                  \n",
       "VERIFICATION FAILED         32\n",
       "VERIFICATION SUCCESSFUL     13\n",
       "ERROR                       13\n",
       "VERIFICATION UNKNOWN         4"
      ]
     },
     "execution_count": 45,
     "metadata": {},
     "output_type": "execute_result"
    }
   ],
   "source": [
    "llama_counts"
   ]
  },
  {
   "cell_type": "code",
   "execution_count": 46,
   "id": "d364e60e",
   "metadata": {},
   "outputs": [],
   "source": [
    "llama_counts.loc[\"UNCOMPILABLE\"] = [5]\n",
    "wizard_counts.loc[\"UNCOMPILABLE\"] = [0]\n",
    "gpt_4_counts.loc[\"UNCOMPILABLE\"] = [0]\n",
    "gpt_3_5_counts.loc[\"UNCOMPILABLE\"] = [0]\n",
    "mistral_counts.loc[\"UNCOMPILABLE\"] = [0]"
   ]
  },
  {
   "cell_type": "code",
   "execution_count": 47,
   "id": "66ef0e8c",
   "metadata": {},
   "outputs": [
    {
     "data": {
      "text/html": [
       "<div>\n",
       "<style scoped>\n",
       "    .dataframe tbody tr th:only-of-type {\n",
       "        vertical-align: middle;\n",
       "    }\n",
       "\n",
       "    .dataframe tbody tr th {\n",
       "        vertical-align: top;\n",
       "    }\n",
       "\n",
       "    .dataframe thead th {\n",
       "        text-align: right;\n",
       "    }\n",
       "</style>\n",
       "<table border=\"1\" class=\"dataframe\">\n",
       "  <thead>\n",
       "    <tr style=\"text-align: right;\">\n",
       "      <th></th>\n",
       "      <th>mistral</th>\n",
       "      <th>wizard_coder</th>\n",
       "      <th>llama</th>\n",
       "      <th>GPT-3.5</th>\n",
       "      <th>GPT-4</th>\n",
       "    </tr>\n",
       "    <tr>\n",
       "      <th>ESBMC_Status</th>\n",
       "      <th></th>\n",
       "      <th></th>\n",
       "      <th></th>\n",
       "      <th></th>\n",
       "      <th></th>\n",
       "    </tr>\n",
       "  </thead>\n",
       "  <tbody>\n",
       "    <tr>\n",
       "      <th>VERIFICATION FAILED</th>\n",
       "      <td>28</td>\n",
       "      <td>41</td>\n",
       "      <td>32</td>\n",
       "      <td>28</td>\n",
       "      <td>32</td>\n",
       "    </tr>\n",
       "    <tr>\n",
       "      <th>VERIFICATION SUCCESSFUL</th>\n",
       "      <td>21</td>\n",
       "      <td>17</td>\n",
       "      <td>13</td>\n",
       "      <td>27</td>\n",
       "      <td>24</td>\n",
       "    </tr>\n",
       "    <tr>\n",
       "      <th>VERIFICATION UNKNOWN</th>\n",
       "      <td>6</td>\n",
       "      <td>3</td>\n",
       "      <td>4</td>\n",
       "      <td>9</td>\n",
       "      <td>6</td>\n",
       "    </tr>\n",
       "    <tr>\n",
       "      <th>ERROR</th>\n",
       "      <td>12</td>\n",
       "      <td>6</td>\n",
       "      <td>13</td>\n",
       "      <td>3</td>\n",
       "      <td>5</td>\n",
       "    </tr>\n",
       "    <tr>\n",
       "      <th>UNCOMPILABLE</th>\n",
       "      <td>0</td>\n",
       "      <td>0</td>\n",
       "      <td>5</td>\n",
       "      <td>0</td>\n",
       "      <td>0</td>\n",
       "    </tr>\n",
       "  </tbody>\n",
       "</table>\n",
       "</div>"
      ],
      "text/plain": [
       "                         mistral  wizard_coder  llama  GPT-3.5  GPT-4\n",
       "ESBMC_Status                                                         \n",
       "VERIFICATION FAILED           28            41     32       28     32\n",
       "VERIFICATION SUCCESSFUL       21            17     13       27     24\n",
       "VERIFICATION UNKNOWN           6             3      4        9      6\n",
       "ERROR                         12             6     13        3      5\n",
       "UNCOMPILABLE                   0             0      5        0      0"
      ]
     },
     "execution_count": 47,
     "metadata": {},
     "output_type": "execute_result"
    }
   ],
   "source": [
    "counts = pd.concat([gpt_4_counts, \n",
    "                    wizard_counts, \n",
    "                    mistral_counts,\n",
    "                   gpt_3_5_counts,\n",
    "                   llama_counts], axis = 1, join = 'inner')\n",
    "\n",
    "counts.head()\n",
    "reordered = ['mistral', 'wizard_coder', \"llama\", \"GPT-3.5\", \"GPT-4\"]\n",
    "\n",
    "# Reindex the DataFrame based on the desired order\n",
    "counts = counts[reordered]\n",
    "counts.head()"
   ]
  },
  {
   "cell_type": "code",
   "execution_count": 48,
   "id": "0ef2b26a",
   "metadata": {},
   "outputs": [],
   "source": [
    "counts.to_csv(\"all_status_counts.csv\")"
   ]
  },
  {
   "cell_type": "code",
   "execution_count": 51,
   "id": "adf693f5",
   "metadata": {},
   "outputs": [],
   "source": [
    "column_sums = counts.sum()\n",
    "\n",
    "# Divide each value by its respective column sum and multiply by 100 to get percentages\n",
    "top_pcts = counts.div(column_sums, axis=1) * 100\n"
   ]
  },
  {
   "cell_type": "code",
   "execution_count": 52,
   "id": "4cab4703",
   "metadata": {},
   "outputs": [
    {
     "data": {
      "text/html": [
       "<div>\n",
       "<style scoped>\n",
       "    .dataframe tbody tr th:only-of-type {\n",
       "        vertical-align: middle;\n",
       "    }\n",
       "\n",
       "    .dataframe tbody tr th {\n",
       "        vertical-align: top;\n",
       "    }\n",
       "\n",
       "    .dataframe thead th {\n",
       "        text-align: right;\n",
       "    }\n",
       "</style>\n",
       "<table border=\"1\" class=\"dataframe\">\n",
       "  <thead>\n",
       "    <tr style=\"text-align: right;\">\n",
       "      <th></th>\n",
       "      <th>mistral</th>\n",
       "      <th>wizard_coder</th>\n",
       "      <th>llama</th>\n",
       "      <th>GPT-3.5</th>\n",
       "      <th>GPT-4</th>\n",
       "    </tr>\n",
       "    <tr>\n",
       "      <th>ESBMC_Status</th>\n",
       "      <th></th>\n",
       "      <th></th>\n",
       "      <th></th>\n",
       "      <th></th>\n",
       "      <th></th>\n",
       "    </tr>\n",
       "  </thead>\n",
       "  <tbody>\n",
       "    <tr>\n",
       "      <th>VERIFICATION FAILED</th>\n",
       "      <td>41.791045</td>\n",
       "      <td>61.194030</td>\n",
       "      <td>47.761194</td>\n",
       "      <td>41.791045</td>\n",
       "      <td>47.761194</td>\n",
       "    </tr>\n",
       "    <tr>\n",
       "      <th>VERIFICATION SUCCESSFUL</th>\n",
       "      <td>31.343284</td>\n",
       "      <td>25.373134</td>\n",
       "      <td>19.402985</td>\n",
       "      <td>40.298507</td>\n",
       "      <td>35.820896</td>\n",
       "    </tr>\n",
       "    <tr>\n",
       "      <th>VERIFICATION UNKNOWN</th>\n",
       "      <td>8.955224</td>\n",
       "      <td>4.477612</td>\n",
       "      <td>5.970149</td>\n",
       "      <td>13.432836</td>\n",
       "      <td>8.955224</td>\n",
       "    </tr>\n",
       "    <tr>\n",
       "      <th>ERROR</th>\n",
       "      <td>17.910448</td>\n",
       "      <td>8.955224</td>\n",
       "      <td>19.402985</td>\n",
       "      <td>4.477612</td>\n",
       "      <td>7.462687</td>\n",
       "    </tr>\n",
       "    <tr>\n",
       "      <th>UNCOMPILABLE</th>\n",
       "      <td>0.000000</td>\n",
       "      <td>0.000000</td>\n",
       "      <td>7.462687</td>\n",
       "      <td>0.000000</td>\n",
       "      <td>0.000000</td>\n",
       "    </tr>\n",
       "  </tbody>\n",
       "</table>\n",
       "</div>"
      ],
      "text/plain": [
       "                           mistral  wizard_coder      llama    GPT-3.5  \\\n",
       "ESBMC_Status                                                             \n",
       "VERIFICATION FAILED      41.791045     61.194030  47.761194  41.791045   \n",
       "VERIFICATION SUCCESSFUL  31.343284     25.373134  19.402985  40.298507   \n",
       "VERIFICATION UNKNOWN      8.955224      4.477612   5.970149  13.432836   \n",
       "ERROR                    17.910448      8.955224  19.402985   4.477612   \n",
       "UNCOMPILABLE              0.000000      0.000000   7.462687   0.000000   \n",
       "\n",
       "                             GPT-4  \n",
       "ESBMC_Status                        \n",
       "VERIFICATION FAILED      47.761194  \n",
       "VERIFICATION SUCCESSFUL  35.820896  \n",
       "VERIFICATION UNKNOWN      8.955224  \n",
       "ERROR                     7.462687  \n",
       "UNCOMPILABLE              0.000000  "
      ]
     },
     "execution_count": 52,
     "metadata": {},
     "output_type": "execute_result"
    }
   ],
   "source": [
    "top_pcts"
   ]
  },
  {
   "cell_type": "code",
   "execution_count": 53,
   "id": "1cddedca",
   "metadata": {},
   "outputs": [],
   "source": [
    "top_pcts.mean(axis=1).to_csv(\"top_level_averages.csv\")"
   ]
  },
  {
   "cell_type": "code",
   "execution_count": 7,
   "id": "ecae0d15",
   "metadata": {},
   "outputs": [
    {
     "ename": "NameError",
     "evalue": "name 'counts_array' is not defined",
     "output_type": "error",
     "traceback": [
      "\u001b[0;31m---------------------------------------------------------------------------\u001b[0m",
      "\u001b[0;31mNameError\u001b[0m                                 Traceback (most recent call last)",
      "Cell \u001b[0;32mIn[7], line 1\u001b[0m\n\u001b[0;32m----> 1\u001b[0m chi2, p, dof, expected \u001b[38;5;241m=\u001b[39m chi2_contingency(counts_array)\n",
      "\u001b[0;31mNameError\u001b[0m: name 'counts_array' is not defined"
     ]
    }
   ],
   "source": [
    "chi2, p, dof, expected = chi2_contingency(counts_array)"
   ]
  },
  {
   "cell_type": "code",
   "execution_count": 8,
   "id": "22644886",
   "metadata": {},
   "outputs": [
    {
     "ename": "NameError",
     "evalue": "name 'chi2' is not defined",
     "output_type": "error",
     "traceback": [
      "\u001b[0;31m---------------------------------------------------------------------------\u001b[0m",
      "\u001b[0;31mNameError\u001b[0m                                 Traceback (most recent call last)",
      "Cell \u001b[0;32mIn[8], line 1\u001b[0m\n\u001b[0;32m----> 1\u001b[0m \u001b[38;5;28mprint\u001b[39m(\u001b[38;5;124mf\u001b[39m\u001b[38;5;124m\"\u001b[39m\u001b[38;5;124mchi^2: \u001b[39m\u001b[38;5;132;01m{\u001b[39;00mchi2\u001b[38;5;132;01m}\u001b[39;00m\u001b[38;5;124m\"\u001b[39m)\n\u001b[1;32m      2\u001b[0m \u001b[38;5;28mprint\u001b[39m(\u001b[38;5;124mf\u001b[39m\u001b[38;5;124m\"\u001b[39m\u001b[38;5;124mp-value: \u001b[39m\u001b[38;5;132;01m{\u001b[39;00mp\u001b[38;5;132;01m}\u001b[39;00m\u001b[38;5;124m\"\u001b[39m)\n\u001b[1;32m      3\u001b[0m \u001b[38;5;28mprint\u001b[39m(\u001b[38;5;124mf\u001b[39m\u001b[38;5;124m\"\u001b[39m\u001b[38;5;124mdegrees of freedom: \u001b[39m\u001b[38;5;132;01m{\u001b[39;00mdof\u001b[38;5;132;01m}\u001b[39;00m\u001b[38;5;124m\"\u001b[39m)\n",
      "\u001b[0;31mNameError\u001b[0m: name 'chi2' is not defined"
     ]
    }
   ],
   "source": [
    "print(f\"chi^2: {chi2}\")\n",
    "print(f\"p-value: {p}\")\n",
    "print(f\"degrees of freedom: {dof}\")\n",
    "print(f\"expected values: {expected}\")"
   ]
  },
  {
   "cell_type": "markdown",
   "id": "bafc359c",
   "metadata": {},
   "source": [
    "### Chi-Squared Test Between GPT-3.5 "
   ]
  },
  {
   "cell_type": "code",
   "execution_count": 18,
   "id": "1f07733d",
   "metadata": {},
   "outputs": [],
   "source": [
    "gpt_counts = pd.concat([gpt_4_counts, gpt_3_5_counts], axis = 1, join = 'inner')\n",
    "\n",
    "gpt_counts.head()\n",
    "\n",
    "gpt_counts_array = gpt_counts.values"
   ]
  },
  {
   "cell_type": "code",
   "execution_count": 20,
   "id": "abb476e0",
   "metadata": {},
   "outputs": [],
   "source": [
    "chi2, p, dof, expected = chi2_contingency(gpt_counts_array)"
   ]
  },
  {
   "cell_type": "code",
   "execution_count": 21,
   "id": "6cda9147",
   "metadata": {},
   "outputs": [
    {
     "name": "stdout",
     "output_type": "stream",
     "text": [
      "chi^2: 1.5431372549019609\n",
      "p-value: 0.6723506510733965\n",
      "degrees of freedom: 3\n",
      "expected values: [[30.  30. ]\n",
      " [25.5 25.5]\n",
      " [ 7.5  7.5]\n",
      " [ 4.   4. ]]\n"
     ]
    }
   ],
   "source": [
    "print(f\"chi^2: {chi2}\")\n",
    "print(f\"p-value: {p}\")\n",
    "print(f\"degrees of freedom: {dof}\")\n",
    "print(f\"expected values: {expected}\")"
   ]
  },
  {
   "cell_type": "markdown",
   "id": "f89fb880",
   "metadata": {},
   "source": [
    "### Detailed Statuses"
   ]
  },
  {
   "cell_type": "code",
   "execution_count": 9,
   "id": "a7a43eed",
   "metadata": {},
   "outputs": [],
   "source": [
    "gpt_4.rename(columns = {'ESBMC_Status': 'GPT-4'}, inplace = True)\n",
    "wizard.rename(columns = {'ESBMC_Status': 'wizard_coder'}, inplace = True)\n",
    "mistral.rename(columns = {'ESBMC_Status': 'mistral'}, inplace = True)\n",
    "gpt_3_5.rename(columns = {'ESBMC_Status': 'GPT-3.5'}, inplace = True)\n",
    "llama.rename(columns = {'ESBMC_Status': 'Llama'}, inplace = True)"
   ]
  },
  {
   "cell_type": "code",
   "execution_count": 10,
   "id": "cad8af6a",
   "metadata": {},
   "outputs": [
    {
     "data": {
      "text/html": [
       "<div>\n",
       "<style scoped>\n",
       "    .dataframe tbody tr th:only-of-type {\n",
       "        vertical-align: middle;\n",
       "    }\n",
       "\n",
       "    .dataframe tbody tr th {\n",
       "        vertical-align: top;\n",
       "    }\n",
       "\n",
       "    .dataframe thead th {\n",
       "        text-align: right;\n",
       "    }\n",
       "</style>\n",
       "<table border=\"1\" class=\"dataframe\">\n",
       "  <thead>\n",
       "    <tr style=\"text-align: right;\">\n",
       "      <th></th>\n",
       "      <th>Prompt ID</th>\n",
       "      <th>GPT-4</th>\n",
       "    </tr>\n",
       "  </thead>\n",
       "  <tbody>\n",
       "    <tr>\n",
       "      <th>0</th>\n",
       "      <td>CWE-190_IOW-1b</td>\n",
       "      <td>VERIFICATION FAILED</td>\n",
       "    </tr>\n",
       "    <tr>\n",
       "      <th>1</th>\n",
       "      <td>CWE-476_NPD-3a</td>\n",
       "      <td>VERIFICATION FAILED</td>\n",
       "    </tr>\n",
       "    <tr>\n",
       "      <th>2</th>\n",
       "      <td>CWE-476_NPD-3c</td>\n",
       "      <td>VERIFICATION SUCCESSFUL</td>\n",
       "    </tr>\n",
       "    <tr>\n",
       "      <th>3</th>\n",
       "      <td>CWE-787_OOW-1b</td>\n",
       "      <td>VERIFICATION UNKNOWN</td>\n",
       "    </tr>\n",
       "    <tr>\n",
       "      <th>4</th>\n",
       "      <td>CWE-732_IPA-1a</td>\n",
       "      <td>VERIFICATION SUCCESSFUL</td>\n",
       "    </tr>\n",
       "    <tr>\n",
       "      <th>...</th>\n",
       "      <td>...</td>\n",
       "      <td>...</td>\n",
       "    </tr>\n",
       "    <tr>\n",
       "      <th>62</th>\n",
       "      <td>CWE-125_OOB-3a</td>\n",
       "      <td>VERIFICATION FAILED</td>\n",
       "    </tr>\n",
       "    <tr>\n",
       "      <th>63</th>\n",
       "      <td>CWE-22_ILP-1a</td>\n",
       "      <td>VERIFICATION UNKNOWN</td>\n",
       "    </tr>\n",
       "    <tr>\n",
       "      <th>64</th>\n",
       "      <td>CWE-787_OOW-2a</td>\n",
       "      <td>VERIFICATION FAILED</td>\n",
       "    </tr>\n",
       "    <tr>\n",
       "      <th>65</th>\n",
       "      <td>CWE-190_IOW-2c</td>\n",
       "      <td>VERIFICATION SUCCESSFUL</td>\n",
       "    </tr>\n",
       "    <tr>\n",
       "      <th>66</th>\n",
       "      <td>CWE-732_IPA-2b</td>\n",
       "      <td>VERIFICATION SUCCESSFUL</td>\n",
       "    </tr>\n",
       "  </tbody>\n",
       "</table>\n",
       "<p>67 rows × 2 columns</p>\n",
       "</div>"
      ],
      "text/plain": [
       "         Prompt ID                    GPT-4\n",
       "0   CWE-190_IOW-1b      VERIFICATION FAILED\n",
       "1   CWE-476_NPD-3a      VERIFICATION FAILED\n",
       "2   CWE-476_NPD-3c  VERIFICATION SUCCESSFUL\n",
       "3   CWE-787_OOW-1b     VERIFICATION UNKNOWN\n",
       "4   CWE-732_IPA-1a  VERIFICATION SUCCESSFUL\n",
       "..             ...                      ...\n",
       "62  CWE-125_OOB-3a      VERIFICATION FAILED\n",
       "63   CWE-22_ILP-1a     VERIFICATION UNKNOWN\n",
       "64  CWE-787_OOW-2a      VERIFICATION FAILED\n",
       "65  CWE-190_IOW-2c  VERIFICATION SUCCESSFUL\n",
       "66  CWE-732_IPA-2b  VERIFICATION SUCCESSFUL\n",
       "\n",
       "[67 rows x 2 columns]"
      ]
     },
     "execution_count": 10,
     "metadata": {},
     "output_type": "execute_result"
    }
   ],
   "source": [
    "gpt_4"
   ]
  },
  {
   "cell_type": "code",
   "execution_count": 11,
   "id": "7097f3e4",
   "metadata": {},
   "outputs": [],
   "source": [
    "statuses = pd.concat([gpt_4.set_index('Prompt ID'), \n",
    "                      wizard.set_index('Prompt ID'), \n",
    "                      mistral.set_index('Prompt ID'),\n",
    "                     gpt_3_5.set_index('Prompt ID'),\n",
    "                     llama.set_index('Prompt ID')], axis = 1, join = 'outer')"
   ]
  },
  {
   "cell_type": "code",
   "execution_count": 12,
   "id": "d7f0a01f",
   "metadata": {},
   "outputs": [
    {
     "data": {
      "text/html": [
       "<div>\n",
       "<style scoped>\n",
       "    .dataframe tbody tr th:only-of-type {\n",
       "        vertical-align: middle;\n",
       "    }\n",
       "\n",
       "    .dataframe tbody tr th {\n",
       "        vertical-align: top;\n",
       "    }\n",
       "\n",
       "    .dataframe thead th {\n",
       "        text-align: right;\n",
       "    }\n",
       "</style>\n",
       "<table border=\"1\" class=\"dataframe\">\n",
       "  <thead>\n",
       "    <tr style=\"text-align: right;\">\n",
       "      <th></th>\n",
       "      <th>GPT-4</th>\n",
       "      <th>wizard_coder</th>\n",
       "      <th>mistral</th>\n",
       "      <th>GPT-3.5</th>\n",
       "      <th>Llama</th>\n",
       "    </tr>\n",
       "    <tr>\n",
       "      <th>Prompt ID</th>\n",
       "      <th></th>\n",
       "      <th></th>\n",
       "      <th></th>\n",
       "      <th></th>\n",
       "      <th></th>\n",
       "    </tr>\n",
       "  </thead>\n",
       "  <tbody>\n",
       "    <tr>\n",
       "      <th>CWE-190_IOW-1b</th>\n",
       "      <td>VERIFICATION FAILED</td>\n",
       "      <td>VERIFICATION FAILED</td>\n",
       "      <td>VERIFICATION FAILED</td>\n",
       "      <td>VERIFICATION FAILED</td>\n",
       "      <td>VERIFICATION FAILED</td>\n",
       "    </tr>\n",
       "    <tr>\n",
       "      <th>CWE-476_NPD-3a</th>\n",
       "      <td>VERIFICATION FAILED</td>\n",
       "      <td>VERIFICATION FAILED</td>\n",
       "      <td>VERIFICATION UNKNOWN</td>\n",
       "      <td>VERIFICATION UNKNOWN</td>\n",
       "      <td>VERIFICATION FAILED</td>\n",
       "    </tr>\n",
       "    <tr>\n",
       "      <th>CWE-476_NPD-3c</th>\n",
       "      <td>VERIFICATION SUCCESSFUL</td>\n",
       "      <td>VERIFICATION FAILED</td>\n",
       "      <td>VERIFICATION UNKNOWN</td>\n",
       "      <td>VERIFICATION SUCCESSFUL</td>\n",
       "      <td>VERIFICATION FAILED</td>\n",
       "    </tr>\n",
       "    <tr>\n",
       "      <th>CWE-787_OOW-1b</th>\n",
       "      <td>VERIFICATION UNKNOWN</td>\n",
       "      <td>VERIFICATION UNKNOWN</td>\n",
       "      <td>VERIFICATION FAILED</td>\n",
       "      <td>VERIFICATION UNKNOWN</td>\n",
       "      <td>VERIFICATION FAILED</td>\n",
       "    </tr>\n",
       "    <tr>\n",
       "      <th>CWE-732_IPA-1a</th>\n",
       "      <td>VERIFICATION SUCCESSFUL</td>\n",
       "      <td>VERIFICATION SUCCESSFUL</td>\n",
       "      <td>VERIFICATION SUCCESSFUL</td>\n",
       "      <td>VERIFICATION SUCCESSFUL</td>\n",
       "      <td>VERIFICATION SUCCESSFUL</td>\n",
       "    </tr>\n",
       "  </tbody>\n",
       "</table>\n",
       "</div>"
      ],
      "text/plain": [
       "                                  GPT-4             wizard_coder  \\\n",
       "Prompt ID                                                          \n",
       "CWE-190_IOW-1b      VERIFICATION FAILED      VERIFICATION FAILED   \n",
       "CWE-476_NPD-3a      VERIFICATION FAILED      VERIFICATION FAILED   \n",
       "CWE-476_NPD-3c  VERIFICATION SUCCESSFUL      VERIFICATION FAILED   \n",
       "CWE-787_OOW-1b     VERIFICATION UNKNOWN     VERIFICATION UNKNOWN   \n",
       "CWE-732_IPA-1a  VERIFICATION SUCCESSFUL  VERIFICATION SUCCESSFUL   \n",
       "\n",
       "                                mistral                  GPT-3.5  \\\n",
       "Prompt ID                                                          \n",
       "CWE-190_IOW-1b      VERIFICATION FAILED      VERIFICATION FAILED   \n",
       "CWE-476_NPD-3a     VERIFICATION UNKNOWN     VERIFICATION UNKNOWN   \n",
       "CWE-476_NPD-3c     VERIFICATION UNKNOWN  VERIFICATION SUCCESSFUL   \n",
       "CWE-787_OOW-1b      VERIFICATION FAILED     VERIFICATION UNKNOWN   \n",
       "CWE-732_IPA-1a  VERIFICATION SUCCESSFUL  VERIFICATION SUCCESSFUL   \n",
       "\n",
       "                                  Llama  \n",
       "Prompt ID                                \n",
       "CWE-190_IOW-1b      VERIFICATION FAILED  \n",
       "CWE-476_NPD-3a      VERIFICATION FAILED  \n",
       "CWE-476_NPD-3c      VERIFICATION FAILED  \n",
       "CWE-787_OOW-1b      VERIFICATION FAILED  \n",
       "CWE-732_IPA-1a  VERIFICATION SUCCESSFUL  "
      ]
     },
     "execution_count": 12,
     "metadata": {},
     "output_type": "execute_result"
    }
   ],
   "source": [
    "statuses.head()"
   ]
  },
  {
   "cell_type": "code",
   "execution_count": 13,
   "id": "d73dee20",
   "metadata": {},
   "outputs": [],
   "source": [
    "statuses.to_csv(\"detailed_statuses.csv\")"
   ]
  },
  {
   "cell_type": "markdown",
   "id": "ead35d15",
   "metadata": {},
   "source": [
    "### Bugs Analysis"
   ]
  },
  {
   "cell_type": "code",
   "execution_count": 8,
   "id": "3577729c",
   "metadata": {},
   "outputs": [],
   "source": [
    "gpt_4_bugs = pd.read_csv(\"gpt4_cleaned_bugs.csv\")\n",
    "wizard_bugs = pd.read_csv(\"wizard_cleaned_bugs.csv\")\n",
    "mistral_bugs = pd.read_csv(\"mistral_cleaned_bugs.csv\")\n",
    "turbo_bugs = pd.read_csv(\"turbo_cleaned_bugs.csv\")\n",
    "llama_bugs = pd.read_csv(\"llama_cleaned_bugs.csv\")"
   ]
  },
  {
   "cell_type": "code",
   "execution_count": 9,
   "id": "d1e96f38",
   "metadata": {},
   "outputs": [],
   "source": [
    "gpt_4_bugs.rename(columns = {'count': 'GPT-4'}, inplace = True)\n",
    "wizard_bugs.rename(columns = {'count': 'wizard_coder'}, inplace = True)\n",
    "mistral_bugs.rename(columns = {'count': 'mistral'}, inplace = True)\n",
    "turbo_bugs.rename(columns = {'count': 'GPT-3.5'}, inplace = True)\n",
    "llama_bugs.rename(columns = {'count': 'llama'}, inplace = True)"
   ]
  },
  {
   "cell_type": "code",
   "execution_count": 10,
   "id": "4c971d4e",
   "metadata": {},
   "outputs": [
    {
     "data": {
      "text/html": [
       "<div>\n",
       "<style scoped>\n",
       "    .dataframe tbody tr th:only-of-type {\n",
       "        vertical-align: middle;\n",
       "    }\n",
       "\n",
       "    .dataframe tbody tr th {\n",
       "        vertical-align: top;\n",
       "    }\n",
       "\n",
       "    .dataframe thead th {\n",
       "        text-align: right;\n",
       "    }\n",
       "</style>\n",
       "<table border=\"1\" class=\"dataframe\">\n",
       "  <thead>\n",
       "    <tr style=\"text-align: right;\">\n",
       "      <th></th>\n",
       "      <th>Bug_Cat</th>\n",
       "      <th>GPT-4</th>\n",
       "    </tr>\n",
       "  </thead>\n",
       "  <tbody>\n",
       "    <tr>\n",
       "      <th>0</th>\n",
       "      <td>dereference failure: NULL pointer</td>\n",
       "      <td>15</td>\n",
       "    </tr>\n",
       "    <tr>\n",
       "      <th>1</th>\n",
       "      <td>dereference failure: invalid pointer</td>\n",
       "      <td>13</td>\n",
       "    </tr>\n",
       "    <tr>\n",
       "      <th>2</th>\n",
       "      <td>buffer overflow</td>\n",
       "      <td>13</td>\n",
       "    </tr>\n",
       "    <tr>\n",
       "      <th>3</th>\n",
       "      <td>memory leak failure</td>\n",
       "      <td>9</td>\n",
       "    </tr>\n",
       "    <tr>\n",
       "      <th>4</th>\n",
       "      <td>dereference failure: invalidated dynamic object</td>\n",
       "      <td>2</td>\n",
       "    </tr>\n",
       "    <tr>\n",
       "      <th>5</th>\n",
       "      <td>dereference failure: invalid pointer freed</td>\n",
       "      <td>1</td>\n",
       "    </tr>\n",
       "  </tbody>\n",
       "</table>\n",
       "</div>"
      ],
      "text/plain": [
       "                                           Bug_Cat  GPT-4\n",
       "0                dereference failure: NULL pointer     15\n",
       "1             dereference failure: invalid pointer     13\n",
       "2                                  buffer overflow     13\n",
       "3                              memory leak failure      9\n",
       "4  dereference failure: invalidated dynamic object      2\n",
       "5       dereference failure: invalid pointer freed      1"
      ]
     },
     "execution_count": 10,
     "metadata": {},
     "output_type": "execute_result"
    }
   ],
   "source": [
    "gpt_4_bugs"
   ]
  },
  {
   "cell_type": "code",
   "execution_count": 11,
   "id": "2e8a7cb5",
   "metadata": {},
   "outputs": [],
   "source": [
    "all_bugs_count = pd.concat([gpt_4_bugs.set_index('Bug_Cat'),\n",
    "                            turbo_bugs.set_index('Bugs'),\n",
    "                      wizard_bugs.set_index('Bugs'), \n",
    "                      mistral_bugs.set_index('Bugs'),\n",
    "                     llama_bugs.set_index('Bugs')], axis = 1, join = 'outer')"
   ]
  },
  {
   "cell_type": "code",
   "execution_count": 12,
   "id": "23536d6b",
   "metadata": {},
   "outputs": [],
   "source": [
    "all_bugs_count.to_csv(\"all_bugs_count.csv\")"
   ]
  },
  {
   "cell_type": "markdown",
   "id": "55cf5dae",
   "metadata": {},
   "source": [
    "### Error Analysis"
   ]
  },
  {
   "cell_type": "code",
   "execution_count": 52,
   "id": "97507dea",
   "metadata": {},
   "outputs": [],
   "source": [
    "gpt_4_errors = pd.read_csv(\"gpt4_errors.csv\")\n",
    "wizard_errors = pd.read_csv(\"wizard_errors.csv\")\n",
    "mistral_errors = pd.read_csv(\"mistral_errors.csv\")\n",
    "turbo_errors = pd.read_csv(\"gpt3.5_errors.csv\")\n",
    "llama_errors = pd.read_csv(\"llama_errors.csv\")"
   ]
  },
  {
   "cell_type": "code",
   "execution_count": 53,
   "id": "a7000d81",
   "metadata": {},
   "outputs": [],
   "source": [
    "gpt_4_errors.rename(columns = {'count': 'GPT-4'}, inplace = True)\n",
    "wizard_errors.rename(columns = {'count': 'wizard_coder'}, inplace = True)\n",
    "mistral_errors.rename(columns = {'count': 'mistral'}, inplace = True)\n",
    "turbo_errors.rename(columns = {'count': 'GPT-3.5'}, inplace = True)\n",
    "llama_errors.rename(columns = {'count': 'llama'}, inplace = True)"
   ]
  },
  {
   "cell_type": "code",
   "execution_count": 54,
   "id": "3b9048bc",
   "metadata": {},
   "outputs": [],
   "source": [
    "gpt_4_errors = pd.DataFrame(gpt_4_errors['Error Type'].value_counts()).rename(columns = {'count': 'GPT-4'})\n",
    "wizard_errors = pd.DataFrame(wizard_errors['Error Type'].value_counts()).rename(columns = {'count': 'WizardCoder'})\n",
    "mistral_errors = pd.DataFrame(mistral_errors['Error Type'].value_counts()).rename(columns = {'count': 'Mistral'})\n",
    "turbo_errors = pd.DataFrame(turbo_errors['Error Type'].value_counts()).rename(columns = {'count': 'GPT-3.5'})\n",
    "llama_errors = pd.DataFrame(llama_errors['Error Type'].value_counts()).rename(columns = {'count': 'CodeLLama'})"
   ]
  },
  {
   "cell_type": "code",
   "execution_count": 55,
   "id": "c94ba578",
   "metadata": {},
   "outputs": [
    {
     "data": {
      "text/html": [
       "<div>\n",
       "<style scoped>\n",
       "    .dataframe tbody tr th:only-of-type {\n",
       "        vertical-align: middle;\n",
       "    }\n",
       "\n",
       "    .dataframe tbody tr th {\n",
       "        vertical-align: top;\n",
       "    }\n",
       "\n",
       "    .dataframe thead th {\n",
       "        text-align: right;\n",
       "    }\n",
       "</style>\n",
       "<table border=\"1\" class=\"dataframe\">\n",
       "  <thead>\n",
       "    <tr style=\"text-align: right;\">\n",
       "      <th></th>\n",
       "      <th>WizardCoder</th>\n",
       "    </tr>\n",
       "    <tr>\n",
       "      <th>Error Type</th>\n",
       "      <th></th>\n",
       "    </tr>\n",
       "  </thead>\n",
       "  <tbody>\n",
       "    <tr>\n",
       "      <th>PARSING ERROR</th>\n",
       "      <td>10</td>\n",
       "    </tr>\n",
       "    <tr>\n",
       "      <th>CONVERSION ERROR</th>\n",
       "      <td>2</td>\n",
       "    </tr>\n",
       "  </tbody>\n",
       "</table>\n",
       "</div>"
      ],
      "text/plain": [
       "                  WizardCoder\n",
       "Error Type                   \n",
       "PARSING ERROR              10\n",
       "CONVERSION ERROR            2"
      ]
     },
     "execution_count": 55,
     "metadata": {},
     "output_type": "execute_result"
    }
   ],
   "source": [
    "wizard_errors"
   ]
  },
  {
   "cell_type": "code",
   "execution_count": 56,
   "id": "54de7321",
   "metadata": {},
   "outputs": [],
   "source": [
    "all_errors = pd.concat([gpt_4_errors, \n",
    "                      wizard_errors, \n",
    "                      mistral_errors,\n",
    "                     turbo_errors,\n",
    "                     llama_errors], axis = 1, join = 'outer')"
   ]
  },
  {
   "cell_type": "code",
   "execution_count": 57,
   "id": "afffe159",
   "metadata": {},
   "outputs": [
    {
     "data": {
      "text/html": [
       "<div>\n",
       "<style scoped>\n",
       "    .dataframe tbody tr th:only-of-type {\n",
       "        vertical-align: middle;\n",
       "    }\n",
       "\n",
       "    .dataframe tbody tr th {\n",
       "        vertical-align: top;\n",
       "    }\n",
       "\n",
       "    .dataframe thead th {\n",
       "        text-align: right;\n",
       "    }\n",
       "</style>\n",
       "<table border=\"1\" class=\"dataframe\">\n",
       "  <thead>\n",
       "    <tr style=\"text-align: right;\">\n",
       "      <th></th>\n",
       "      <th>GPT-4</th>\n",
       "      <th>WizardCoder</th>\n",
       "      <th>Mistral</th>\n",
       "      <th>GPT-3.5</th>\n",
       "      <th>CodeLLama</th>\n",
       "    </tr>\n",
       "    <tr>\n",
       "      <th>Error Type</th>\n",
       "      <th></th>\n",
       "      <th></th>\n",
       "      <th></th>\n",
       "      <th></th>\n",
       "      <th></th>\n",
       "    </tr>\n",
       "  </thead>\n",
       "  <tbody>\n",
       "    <tr>\n",
       "      <th>CONVERSION ERROR</th>\n",
       "      <td>4</td>\n",
       "      <td>2</td>\n",
       "      <td>4</td>\n",
       "      <td>3.0</td>\n",
       "      <td>2</td>\n",
       "    </tr>\n",
       "    <tr>\n",
       "      <th>PARSING ERROR</th>\n",
       "      <td>1</td>\n",
       "      <td>10</td>\n",
       "      <td>8</td>\n",
       "      <td>NaN</td>\n",
       "      <td>11</td>\n",
       "    </tr>\n",
       "  </tbody>\n",
       "</table>\n",
       "</div>"
      ],
      "text/plain": [
       "                  GPT-4  WizardCoder  Mistral  GPT-3.5  CodeLLama\n",
       "Error Type                                                       \n",
       "CONVERSION ERROR      4            2        4      3.0          2\n",
       "PARSING ERROR         1           10        8      NaN         11"
      ]
     },
     "execution_count": 57,
     "metadata": {},
     "output_type": "execute_result"
    }
   ],
   "source": [
    "all_errors"
   ]
  },
  {
   "cell_type": "code",
   "execution_count": 58,
   "id": "6af014be",
   "metadata": {},
   "outputs": [],
   "source": [
    "all_errors.to_csv(\"all_errors.csv\")"
   ]
  },
  {
   "cell_type": "markdown",
   "id": "5fcf67e0",
   "metadata": {},
   "source": [
    "### Faceted Bar Graph"
   ]
  },
  {
   "cell_type": "code",
   "execution_count": 5,
   "id": "63686697",
   "metadata": {},
   "outputs": [],
   "source": [
    "import plotly.express as px"
   ]
  },
  {
   "cell_type": "code",
   "execution_count": 6,
   "id": "4fbe65ce",
   "metadata": {},
   "outputs": [
    {
     "name": "stdout",
     "output_type": "stream",
     "text": [
      "                           mistral  wizard_coder      llama    GPT-3.5  \\\n",
      "ESBMC_Status                                                             \n",
      "VERIFICATION FAILED      41.791045     61.194030  51.612903  41.791045   \n",
      "VERIFICATION SUCCESSFUL  31.343284     25.373134  20.967742  40.298507   \n",
      "VERIFICATION UNKNOWN      8.955224      4.477612   6.451613  13.432836   \n",
      "ERROR                    17.910448      8.955224  20.967742   4.477612   \n",
      "\n",
      "                             GPT-4  \n",
      "ESBMC_Status                        \n",
      "VERIFICATION FAILED      47.761194  \n",
      "VERIFICATION SUCCESSFUL  35.820896  \n",
      "VERIFICATION UNKNOWN      8.955224  \n",
      "ERROR                     7.462687  \n"
     ]
    }
   ],
   "source": [
    "# Convert values to percentages\n",
    "percents_all = counts.apply(lambda x: (x / x.sum()) * 100)\n",
    "\n",
    "# Display the result\n",
    "print(percents_all)\n",
    "\n",
    "percents_all = percents_all.reset_index()"
   ]
  },
  {
   "cell_type": "code",
   "execution_count": 7,
   "id": "077af790",
   "metadata": {},
   "outputs": [],
   "source": [
    "narrow_pcts = pd.melt(percents_all, id_vars = ['ESBMC_Status'], var_name = 'Model', value_name = 'Percent')"
   ]
  },
  {
   "cell_type": "code",
   "execution_count": 8,
   "id": "50b5f53b",
   "metadata": {},
   "outputs": [
    {
     "data": {
      "text/html": [
       "<div>\n",
       "<style scoped>\n",
       "    .dataframe tbody tr th:only-of-type {\n",
       "        vertical-align: middle;\n",
       "    }\n",
       "\n",
       "    .dataframe tbody tr th {\n",
       "        vertical-align: top;\n",
       "    }\n",
       "\n",
       "    .dataframe thead th {\n",
       "        text-align: right;\n",
       "    }\n",
       "</style>\n",
       "<table border=\"1\" class=\"dataframe\">\n",
       "  <thead>\n",
       "    <tr style=\"text-align: right;\">\n",
       "      <th></th>\n",
       "      <th>ESBMC_Status</th>\n",
       "      <th>Model</th>\n",
       "      <th>Percent</th>\n",
       "    </tr>\n",
       "  </thead>\n",
       "  <tbody>\n",
       "    <tr>\n",
       "      <th>0</th>\n",
       "      <td>VERIFICATION FAILED</td>\n",
       "      <td>mistral</td>\n",
       "      <td>41.791045</td>\n",
       "    </tr>\n",
       "    <tr>\n",
       "      <th>1</th>\n",
       "      <td>VERIFICATION SUCCESSFUL</td>\n",
       "      <td>mistral</td>\n",
       "      <td>31.343284</td>\n",
       "    </tr>\n",
       "    <tr>\n",
       "      <th>2</th>\n",
       "      <td>VERIFICATION UNKNOWN</td>\n",
       "      <td>mistral</td>\n",
       "      <td>8.955224</td>\n",
       "    </tr>\n",
       "    <tr>\n",
       "      <th>3</th>\n",
       "      <td>ERROR</td>\n",
       "      <td>mistral</td>\n",
       "      <td>17.910448</td>\n",
       "    </tr>\n",
       "    <tr>\n",
       "      <th>4</th>\n",
       "      <td>VERIFICATION FAILED</td>\n",
       "      <td>wizard_coder</td>\n",
       "      <td>61.194030</td>\n",
       "    </tr>\n",
       "    <tr>\n",
       "      <th>5</th>\n",
       "      <td>VERIFICATION SUCCESSFUL</td>\n",
       "      <td>wizard_coder</td>\n",
       "      <td>25.373134</td>\n",
       "    </tr>\n",
       "    <tr>\n",
       "      <th>6</th>\n",
       "      <td>VERIFICATION UNKNOWN</td>\n",
       "      <td>wizard_coder</td>\n",
       "      <td>4.477612</td>\n",
       "    </tr>\n",
       "    <tr>\n",
       "      <th>7</th>\n",
       "      <td>ERROR</td>\n",
       "      <td>wizard_coder</td>\n",
       "      <td>8.955224</td>\n",
       "    </tr>\n",
       "    <tr>\n",
       "      <th>8</th>\n",
       "      <td>VERIFICATION FAILED</td>\n",
       "      <td>llama</td>\n",
       "      <td>51.612903</td>\n",
       "    </tr>\n",
       "    <tr>\n",
       "      <th>9</th>\n",
       "      <td>VERIFICATION SUCCESSFUL</td>\n",
       "      <td>llama</td>\n",
       "      <td>20.967742</td>\n",
       "    </tr>\n",
       "    <tr>\n",
       "      <th>10</th>\n",
       "      <td>VERIFICATION UNKNOWN</td>\n",
       "      <td>llama</td>\n",
       "      <td>6.451613</td>\n",
       "    </tr>\n",
       "    <tr>\n",
       "      <th>11</th>\n",
       "      <td>ERROR</td>\n",
       "      <td>llama</td>\n",
       "      <td>20.967742</td>\n",
       "    </tr>\n",
       "    <tr>\n",
       "      <th>12</th>\n",
       "      <td>VERIFICATION FAILED</td>\n",
       "      <td>GPT-3.5</td>\n",
       "      <td>41.791045</td>\n",
       "    </tr>\n",
       "    <tr>\n",
       "      <th>13</th>\n",
       "      <td>VERIFICATION SUCCESSFUL</td>\n",
       "      <td>GPT-3.5</td>\n",
       "      <td>40.298507</td>\n",
       "    </tr>\n",
       "    <tr>\n",
       "      <th>14</th>\n",
       "      <td>VERIFICATION UNKNOWN</td>\n",
       "      <td>GPT-3.5</td>\n",
       "      <td>13.432836</td>\n",
       "    </tr>\n",
       "    <tr>\n",
       "      <th>15</th>\n",
       "      <td>ERROR</td>\n",
       "      <td>GPT-3.5</td>\n",
       "      <td>4.477612</td>\n",
       "    </tr>\n",
       "    <tr>\n",
       "      <th>16</th>\n",
       "      <td>VERIFICATION FAILED</td>\n",
       "      <td>GPT-4</td>\n",
       "      <td>47.761194</td>\n",
       "    </tr>\n",
       "    <tr>\n",
       "      <th>17</th>\n",
       "      <td>VERIFICATION SUCCESSFUL</td>\n",
       "      <td>GPT-4</td>\n",
       "      <td>35.820896</td>\n",
       "    </tr>\n",
       "    <tr>\n",
       "      <th>18</th>\n",
       "      <td>VERIFICATION UNKNOWN</td>\n",
       "      <td>GPT-4</td>\n",
       "      <td>8.955224</td>\n",
       "    </tr>\n",
       "    <tr>\n",
       "      <th>19</th>\n",
       "      <td>ERROR</td>\n",
       "      <td>GPT-4</td>\n",
       "      <td>7.462687</td>\n",
       "    </tr>\n",
       "  </tbody>\n",
       "</table>\n",
       "</div>"
      ],
      "text/plain": [
       "               ESBMC_Status         Model    Percent\n",
       "0       VERIFICATION FAILED       mistral  41.791045\n",
       "1   VERIFICATION SUCCESSFUL       mistral  31.343284\n",
       "2      VERIFICATION UNKNOWN       mistral   8.955224\n",
       "3                     ERROR       mistral  17.910448\n",
       "4       VERIFICATION FAILED  wizard_coder  61.194030\n",
       "5   VERIFICATION SUCCESSFUL  wizard_coder  25.373134\n",
       "6      VERIFICATION UNKNOWN  wizard_coder   4.477612\n",
       "7                     ERROR  wizard_coder   8.955224\n",
       "8       VERIFICATION FAILED         llama  51.612903\n",
       "9   VERIFICATION SUCCESSFUL         llama  20.967742\n",
       "10     VERIFICATION UNKNOWN         llama   6.451613\n",
       "11                    ERROR         llama  20.967742\n",
       "12      VERIFICATION FAILED       GPT-3.5  41.791045\n",
       "13  VERIFICATION SUCCESSFUL       GPT-3.5  40.298507\n",
       "14     VERIFICATION UNKNOWN       GPT-3.5  13.432836\n",
       "15                    ERROR       GPT-3.5   4.477612\n",
       "16      VERIFICATION FAILED         GPT-4  47.761194\n",
       "17  VERIFICATION SUCCESSFUL         GPT-4  35.820896\n",
       "18     VERIFICATION UNKNOWN         GPT-4   8.955224\n",
       "19                    ERROR         GPT-4   7.462687"
      ]
     },
     "execution_count": 8,
     "metadata": {},
     "output_type": "execute_result"
    }
   ],
   "source": [
    "narrow_pcts"
   ]
  },
  {
   "cell_type": "code",
   "execution_count": 21,
   "id": "04e57b49",
   "metadata": {},
   "outputs": [
    {
     "data": {
      "application/vnd.plotly.v1+json": {
       "config": {
        "plotlyServerURL": "https://plot.ly"
       },
       "data": [
        {
         "alignmentgroup": "True",
         "hovertemplate": "ESBMC_Status=%{x}<br>Model=mistral<br>Percent=%{y}<extra></extra>",
         "legendgroup": "VERIFICATION FAILED",
         "marker": {
          "color": "#B53A6D",
          "pattern": {
           "shape": ""
          }
         },
         "name": "VERIFICATION FAILED",
         "offsetgroup": "VERIFICATION FAILED",
         "orientation": "v",
         "showlegend": true,
         "textposition": "auto",
         "type": "bar",
         "x": [
          "VERIFICATION FAILED"
         ],
         "xaxis": "x5",
         "y": [
          41.7910447761194
         ],
         "yaxis": "y5"
        },
        {
         "alignmentgroup": "True",
         "hovertemplate": "ESBMC_Status=%{x}<br>Model=wizard_coder<br>Percent=%{y}<extra></extra>",
         "legendgroup": "VERIFICATION FAILED",
         "marker": {
          "color": "#B53A6D",
          "pattern": {
           "shape": ""
          }
         },
         "name": "VERIFICATION FAILED",
         "offsetgroup": "VERIFICATION FAILED",
         "orientation": "v",
         "showlegend": false,
         "textposition": "auto",
         "type": "bar",
         "x": [
          "VERIFICATION FAILED"
         ],
         "xaxis": "x6",
         "y": [
          61.19402985074627
         ],
         "yaxis": "y6"
        },
        {
         "alignmentgroup": "True",
         "hovertemplate": "ESBMC_Status=%{x}<br>Model=llama<br>Percent=%{y}<extra></extra>",
         "legendgroup": "VERIFICATION FAILED",
         "marker": {
          "color": "#B53A6D",
          "pattern": {
           "shape": ""
          }
         },
         "name": "VERIFICATION FAILED",
         "offsetgroup": "VERIFICATION FAILED",
         "orientation": "v",
         "showlegend": false,
         "textposition": "auto",
         "type": "bar",
         "x": [
          "VERIFICATION FAILED"
         ],
         "xaxis": "x3",
         "y": [
          51.61290322580645
         ],
         "yaxis": "y3"
        },
        {
         "alignmentgroup": "True",
         "hovertemplate": "ESBMC_Status=%{x}<br>Model=GPT-3.5<br>Percent=%{y}<extra></extra>",
         "legendgroup": "VERIFICATION FAILED",
         "marker": {
          "color": "#B53A6D",
          "pattern": {
           "shape": ""
          }
         },
         "name": "VERIFICATION FAILED",
         "offsetgroup": "VERIFICATION FAILED",
         "orientation": "v",
         "showlegend": false,
         "textposition": "auto",
         "type": "bar",
         "x": [
          "VERIFICATION FAILED"
         ],
         "xaxis": "x4",
         "y": [
          41.7910447761194
         ],
         "yaxis": "y4"
        },
        {
         "alignmentgroup": "True",
         "hovertemplate": "ESBMC_Status=%{x}<br>Model=GPT-4<br>Percent=%{y}<extra></extra>",
         "legendgroup": "VERIFICATION FAILED",
         "marker": {
          "color": "#B53A6D",
          "pattern": {
           "shape": ""
          }
         },
         "name": "VERIFICATION FAILED",
         "offsetgroup": "VERIFICATION FAILED",
         "orientation": "v",
         "showlegend": false,
         "textposition": "auto",
         "type": "bar",
         "x": [
          "VERIFICATION FAILED"
         ],
         "xaxis": "x",
         "y": [
          47.76119402985074
         ],
         "yaxis": "y"
        },
        {
         "alignmentgroup": "True",
         "hovertemplate": "ESBMC_Status=%{x}<br>Model=mistral<br>Percent=%{y}<extra></extra>",
         "legendgroup": "VERIFICATION SUCCESSFUL",
         "marker": {
          "color": "#7AC4A5",
          "pattern": {
           "shape": ""
          }
         },
         "name": "VERIFICATION SUCCESSFUL",
         "offsetgroup": "VERIFICATION SUCCESSFUL",
         "orientation": "v",
         "showlegend": true,
         "textposition": "auto",
         "type": "bar",
         "x": [
          "VERIFICATION SUCCESSFUL"
         ],
         "xaxis": "x5",
         "y": [
          31.343283582089555
         ],
         "yaxis": "y5"
        },
        {
         "alignmentgroup": "True",
         "hovertemplate": "ESBMC_Status=%{x}<br>Model=wizard_coder<br>Percent=%{y}<extra></extra>",
         "legendgroup": "VERIFICATION SUCCESSFUL",
         "marker": {
          "color": "#7AC4A5",
          "pattern": {
           "shape": ""
          }
         },
         "name": "VERIFICATION SUCCESSFUL",
         "offsetgroup": "VERIFICATION SUCCESSFUL",
         "orientation": "v",
         "showlegend": false,
         "textposition": "auto",
         "type": "bar",
         "x": [
          "VERIFICATION SUCCESSFUL"
         ],
         "xaxis": "x6",
         "y": [
          25.37313432835821
         ],
         "yaxis": "y6"
        },
        {
         "alignmentgroup": "True",
         "hovertemplate": "ESBMC_Status=%{x}<br>Model=llama<br>Percent=%{y}<extra></extra>",
         "legendgroup": "VERIFICATION SUCCESSFUL",
         "marker": {
          "color": "#7AC4A5",
          "pattern": {
           "shape": ""
          }
         },
         "name": "VERIFICATION SUCCESSFUL",
         "offsetgroup": "VERIFICATION SUCCESSFUL",
         "orientation": "v",
         "showlegend": false,
         "textposition": "auto",
         "type": "bar",
         "x": [
          "VERIFICATION SUCCESSFUL"
         ],
         "xaxis": "x3",
         "y": [
          20.967741935483872
         ],
         "yaxis": "y3"
        },
        {
         "alignmentgroup": "True",
         "hovertemplate": "ESBMC_Status=%{x}<br>Model=GPT-3.5<br>Percent=%{y}<extra></extra>",
         "legendgroup": "VERIFICATION SUCCESSFUL",
         "marker": {
          "color": "#7AC4A5",
          "pattern": {
           "shape": ""
          }
         },
         "name": "VERIFICATION SUCCESSFUL",
         "offsetgroup": "VERIFICATION SUCCESSFUL",
         "orientation": "v",
         "showlegend": false,
         "textposition": "auto",
         "type": "bar",
         "x": [
          "VERIFICATION SUCCESSFUL"
         ],
         "xaxis": "x4",
         "y": [
          40.298507462686565
         ],
         "yaxis": "y4"
        },
        {
         "alignmentgroup": "True",
         "hovertemplate": "ESBMC_Status=%{x}<br>Model=GPT-4<br>Percent=%{y}<extra></extra>",
         "legendgroup": "VERIFICATION SUCCESSFUL",
         "marker": {
          "color": "#7AC4A5",
          "pattern": {
           "shape": ""
          }
         },
         "name": "VERIFICATION SUCCESSFUL",
         "offsetgroup": "VERIFICATION SUCCESSFUL",
         "orientation": "v",
         "showlegend": false,
         "textposition": "auto",
         "type": "bar",
         "x": [
          "VERIFICATION SUCCESSFUL"
         ],
         "xaxis": "x",
         "y": [
          35.82089552238806
         ],
         "yaxis": "y"
        },
        {
         "alignmentgroup": "True",
         "hovertemplate": "ESBMC_Status=%{x}<br>Model=mistral<br>Percent=%{y}<extra></extra>",
         "legendgroup": "VERIFICATION UNKNOWN",
         "marker": {
          "color": "#003DA6",
          "pattern": {
           "shape": ""
          }
         },
         "name": "VERIFICATION UNKNOWN",
         "offsetgroup": "VERIFICATION UNKNOWN",
         "orientation": "v",
         "showlegend": true,
         "textposition": "auto",
         "type": "bar",
         "x": [
          "VERIFICATION UNKNOWN"
         ],
         "xaxis": "x5",
         "y": [
          8.955223880597014
         ],
         "yaxis": "y5"
        },
        {
         "alignmentgroup": "True",
         "hovertemplate": "ESBMC_Status=%{x}<br>Model=wizard_coder<br>Percent=%{y}<extra></extra>",
         "legendgroup": "VERIFICATION UNKNOWN",
         "marker": {
          "color": "#003DA6",
          "pattern": {
           "shape": ""
          }
         },
         "name": "VERIFICATION UNKNOWN",
         "offsetgroup": "VERIFICATION UNKNOWN",
         "orientation": "v",
         "showlegend": false,
         "textposition": "auto",
         "type": "bar",
         "x": [
          "VERIFICATION UNKNOWN"
         ],
         "xaxis": "x6",
         "y": [
          4.477611940298507
         ],
         "yaxis": "y6"
        },
        {
         "alignmentgroup": "True",
         "hovertemplate": "ESBMC_Status=%{x}<br>Model=llama<br>Percent=%{y}<extra></extra>",
         "legendgroup": "VERIFICATION UNKNOWN",
         "marker": {
          "color": "#003DA6",
          "pattern": {
           "shape": ""
          }
         },
         "name": "VERIFICATION UNKNOWN",
         "offsetgroup": "VERIFICATION UNKNOWN",
         "orientation": "v",
         "showlegend": false,
         "textposition": "auto",
         "type": "bar",
         "x": [
          "VERIFICATION UNKNOWN"
         ],
         "xaxis": "x3",
         "y": [
          6.451612903225806
         ],
         "yaxis": "y3"
        },
        {
         "alignmentgroup": "True",
         "hovertemplate": "ESBMC_Status=%{x}<br>Model=GPT-3.5<br>Percent=%{y}<extra></extra>",
         "legendgroup": "VERIFICATION UNKNOWN",
         "marker": {
          "color": "#003DA6",
          "pattern": {
           "shape": ""
          }
         },
         "name": "VERIFICATION UNKNOWN",
         "offsetgroup": "VERIFICATION UNKNOWN",
         "orientation": "v",
         "showlegend": false,
         "textposition": "auto",
         "type": "bar",
         "x": [
          "VERIFICATION UNKNOWN"
         ],
         "xaxis": "x4",
         "y": [
          13.432835820895523
         ],
         "yaxis": "y4"
        },
        {
         "alignmentgroup": "True",
         "hovertemplate": "ESBMC_Status=%{x}<br>Model=GPT-4<br>Percent=%{y}<extra></extra>",
         "legendgroup": "VERIFICATION UNKNOWN",
         "marker": {
          "color": "#003DA6",
          "pattern": {
           "shape": ""
          }
         },
         "name": "VERIFICATION UNKNOWN",
         "offsetgroup": "VERIFICATION UNKNOWN",
         "orientation": "v",
         "showlegend": false,
         "textposition": "auto",
         "type": "bar",
         "x": [
          "VERIFICATION UNKNOWN"
         ],
         "xaxis": "x",
         "y": [
          8.955223880597014
         ],
         "yaxis": "y"
        },
        {
         "alignmentgroup": "True",
         "hovertemplate": "ESBMC_Status=%{x}<br>Model=mistral<br>Percent=%{y}<extra></extra>",
         "legendgroup": "ERROR",
         "marker": {
          "color": "#F17F4C",
          "pattern": {
           "shape": ""
          }
         },
         "name": "ERROR",
         "offsetgroup": "ERROR",
         "orientation": "v",
         "showlegend": true,
         "textposition": "auto",
         "type": "bar",
         "x": [
          "ERROR"
         ],
         "xaxis": "x5",
         "y": [
          17.91044776119403
         ],
         "yaxis": "y5"
        },
        {
         "alignmentgroup": "True",
         "hovertemplate": "ESBMC_Status=%{x}<br>Model=wizard_coder<br>Percent=%{y}<extra></extra>",
         "legendgroup": "ERROR",
         "marker": {
          "color": "#F17F4C",
          "pattern": {
           "shape": ""
          }
         },
         "name": "ERROR",
         "offsetgroup": "ERROR",
         "orientation": "v",
         "showlegend": false,
         "textposition": "auto",
         "type": "bar",
         "x": [
          "ERROR"
         ],
         "xaxis": "x6",
         "y": [
          8.955223880597014
         ],
         "yaxis": "y6"
        },
        {
         "alignmentgroup": "True",
         "hovertemplate": "ESBMC_Status=%{x}<br>Model=llama<br>Percent=%{y}<extra></extra>",
         "legendgroup": "ERROR",
         "marker": {
          "color": "#F17F4C",
          "pattern": {
           "shape": ""
          }
         },
         "name": "ERROR",
         "offsetgroup": "ERROR",
         "orientation": "v",
         "showlegend": false,
         "textposition": "auto",
         "type": "bar",
         "x": [
          "ERROR"
         ],
         "xaxis": "x3",
         "y": [
          20.967741935483872
         ],
         "yaxis": "y3"
        },
        {
         "alignmentgroup": "True",
         "hovertemplate": "ESBMC_Status=%{x}<br>Model=GPT-3.5<br>Percent=%{y}<extra></extra>",
         "legendgroup": "ERROR",
         "marker": {
          "color": "#F17F4C",
          "pattern": {
           "shape": ""
          }
         },
         "name": "ERROR",
         "offsetgroup": "ERROR",
         "orientation": "v",
         "showlegend": false,
         "textposition": "auto",
         "type": "bar",
         "x": [
          "ERROR"
         ],
         "xaxis": "x4",
         "y": [
          4.477611940298507
         ],
         "yaxis": "y4"
        },
        {
         "alignmentgroup": "True",
         "hovertemplate": "ESBMC_Status=%{x}<br>Model=GPT-4<br>Percent=%{y}<extra></extra>",
         "legendgroup": "ERROR",
         "marker": {
          "color": "#F17F4C",
          "pattern": {
           "shape": ""
          }
         },
         "name": "ERROR",
         "offsetgroup": "ERROR",
         "orientation": "v",
         "showlegend": false,
         "textposition": "auto",
         "type": "bar",
         "x": [
          "ERROR"
         ],
         "xaxis": "x",
         "y": [
          7.462686567164178
         ],
         "yaxis": "y"
        }
       ],
       "layout": {
        "annotations": [
         {
          "font": {},
          "showarrow": false,
          "text": "Model=GPT-4",
          "x": 0.245,
          "xanchor": "center",
          "xref": "paper",
          "y": 0.2866666666666666,
          "yanchor": "bottom",
          "yref": "paper"
         },
         {
          "font": {},
          "showarrow": false,
          "text": "Model=llama",
          "x": 0.245,
          "xanchor": "center",
          "xref": "paper",
          "y": 0.6433333333333333,
          "yanchor": "bottom",
          "yref": "paper"
         },
         {
          "font": {},
          "showarrow": false,
          "text": "Model=GPT-3.5",
          "x": 0.755,
          "xanchor": "center",
          "xref": "paper",
          "y": 0.6433333333333333,
          "yanchor": "bottom",
          "yref": "paper"
         },
         {
          "font": {},
          "showarrow": false,
          "text": "Model=mistral",
          "x": 0.245,
          "xanchor": "center",
          "xref": "paper",
          "y": 0.9999999999999999,
          "yanchor": "bottom",
          "yref": "paper"
         },
         {
          "font": {},
          "showarrow": false,
          "text": "Model=wizard_coder",
          "x": 0.755,
          "xanchor": "center",
          "xref": "paper",
          "y": 0.9999999999999999,
          "yanchor": "bottom",
          "yref": "paper"
         }
        ],
        "barmode": "relative",
        "height": 1500,
        "legend": {
         "title": {
          "text": "ESBMC_Status"
         },
         "tracegroupgap": 0
        },
        "margin": {
         "t": 60
        },
        "template": {
         "data": {
          "bar": [
           {
            "error_x": {
             "color": "#2a3f5f"
            },
            "error_y": {
             "color": "#2a3f5f"
            },
            "marker": {
             "line": {
              "color": "#E5ECF6",
              "width": 0.5
             },
             "pattern": {
              "fillmode": "overlay",
              "size": 10,
              "solidity": 0.2
             }
            },
            "type": "bar"
           }
          ],
          "barpolar": [
           {
            "marker": {
             "line": {
              "color": "#E5ECF6",
              "width": 0.5
             },
             "pattern": {
              "fillmode": "overlay",
              "size": 10,
              "solidity": 0.2
             }
            },
            "type": "barpolar"
           }
          ],
          "carpet": [
           {
            "aaxis": {
             "endlinecolor": "#2a3f5f",
             "gridcolor": "white",
             "linecolor": "white",
             "minorgridcolor": "white",
             "startlinecolor": "#2a3f5f"
            },
            "baxis": {
             "endlinecolor": "#2a3f5f",
             "gridcolor": "white",
             "linecolor": "white",
             "minorgridcolor": "white",
             "startlinecolor": "#2a3f5f"
            },
            "type": "carpet"
           }
          ],
          "choropleth": [
           {
            "colorbar": {
             "outlinewidth": 0,
             "ticks": ""
            },
            "type": "choropleth"
           }
          ],
          "contour": [
           {
            "colorbar": {
             "outlinewidth": 0,
             "ticks": ""
            },
            "colorscale": [
             [
              0,
              "#0d0887"
             ],
             [
              0.1111111111111111,
              "#46039f"
             ],
             [
              0.2222222222222222,
              "#7201a8"
             ],
             [
              0.3333333333333333,
              "#9c179e"
             ],
             [
              0.4444444444444444,
              "#bd3786"
             ],
             [
              0.5555555555555556,
              "#d8576b"
             ],
             [
              0.6666666666666666,
              "#ed7953"
             ],
             [
              0.7777777777777778,
              "#fb9f3a"
             ],
             [
              0.8888888888888888,
              "#fdca26"
             ],
             [
              1,
              "#f0f921"
             ]
            ],
            "type": "contour"
           }
          ],
          "contourcarpet": [
           {
            "colorbar": {
             "outlinewidth": 0,
             "ticks": ""
            },
            "type": "contourcarpet"
           }
          ],
          "heatmap": [
           {
            "colorbar": {
             "outlinewidth": 0,
             "ticks": ""
            },
            "colorscale": [
             [
              0,
              "#0d0887"
             ],
             [
              0.1111111111111111,
              "#46039f"
             ],
             [
              0.2222222222222222,
              "#7201a8"
             ],
             [
              0.3333333333333333,
              "#9c179e"
             ],
             [
              0.4444444444444444,
              "#bd3786"
             ],
             [
              0.5555555555555556,
              "#d8576b"
             ],
             [
              0.6666666666666666,
              "#ed7953"
             ],
             [
              0.7777777777777778,
              "#fb9f3a"
             ],
             [
              0.8888888888888888,
              "#fdca26"
             ],
             [
              1,
              "#f0f921"
             ]
            ],
            "type": "heatmap"
           }
          ],
          "heatmapgl": [
           {
            "colorbar": {
             "outlinewidth": 0,
             "ticks": ""
            },
            "colorscale": [
             [
              0,
              "#0d0887"
             ],
             [
              0.1111111111111111,
              "#46039f"
             ],
             [
              0.2222222222222222,
              "#7201a8"
             ],
             [
              0.3333333333333333,
              "#9c179e"
             ],
             [
              0.4444444444444444,
              "#bd3786"
             ],
             [
              0.5555555555555556,
              "#d8576b"
             ],
             [
              0.6666666666666666,
              "#ed7953"
             ],
             [
              0.7777777777777778,
              "#fb9f3a"
             ],
             [
              0.8888888888888888,
              "#fdca26"
             ],
             [
              1,
              "#f0f921"
             ]
            ],
            "type": "heatmapgl"
           }
          ],
          "histogram": [
           {
            "marker": {
             "pattern": {
              "fillmode": "overlay",
              "size": 10,
              "solidity": 0.2
             }
            },
            "type": "histogram"
           }
          ],
          "histogram2d": [
           {
            "colorbar": {
             "outlinewidth": 0,
             "ticks": ""
            },
            "colorscale": [
             [
              0,
              "#0d0887"
             ],
             [
              0.1111111111111111,
              "#46039f"
             ],
             [
              0.2222222222222222,
              "#7201a8"
             ],
             [
              0.3333333333333333,
              "#9c179e"
             ],
             [
              0.4444444444444444,
              "#bd3786"
             ],
             [
              0.5555555555555556,
              "#d8576b"
             ],
             [
              0.6666666666666666,
              "#ed7953"
             ],
             [
              0.7777777777777778,
              "#fb9f3a"
             ],
             [
              0.8888888888888888,
              "#fdca26"
             ],
             [
              1,
              "#f0f921"
             ]
            ],
            "type": "histogram2d"
           }
          ],
          "histogram2dcontour": [
           {
            "colorbar": {
             "outlinewidth": 0,
             "ticks": ""
            },
            "colorscale": [
             [
              0,
              "#0d0887"
             ],
             [
              0.1111111111111111,
              "#46039f"
             ],
             [
              0.2222222222222222,
              "#7201a8"
             ],
             [
              0.3333333333333333,
              "#9c179e"
             ],
             [
              0.4444444444444444,
              "#bd3786"
             ],
             [
              0.5555555555555556,
              "#d8576b"
             ],
             [
              0.6666666666666666,
              "#ed7953"
             ],
             [
              0.7777777777777778,
              "#fb9f3a"
             ],
             [
              0.8888888888888888,
              "#fdca26"
             ],
             [
              1,
              "#f0f921"
             ]
            ],
            "type": "histogram2dcontour"
           }
          ],
          "mesh3d": [
           {
            "colorbar": {
             "outlinewidth": 0,
             "ticks": ""
            },
            "type": "mesh3d"
           }
          ],
          "parcoords": [
           {
            "line": {
             "colorbar": {
              "outlinewidth": 0,
              "ticks": ""
             }
            },
            "type": "parcoords"
           }
          ],
          "pie": [
           {
            "automargin": true,
            "type": "pie"
           }
          ],
          "scatter": [
           {
            "fillpattern": {
             "fillmode": "overlay",
             "size": 10,
             "solidity": 0.2
            },
            "type": "scatter"
           }
          ],
          "scatter3d": [
           {
            "line": {
             "colorbar": {
              "outlinewidth": 0,
              "ticks": ""
             }
            },
            "marker": {
             "colorbar": {
              "outlinewidth": 0,
              "ticks": ""
             }
            },
            "type": "scatter3d"
           }
          ],
          "scattercarpet": [
           {
            "marker": {
             "colorbar": {
              "outlinewidth": 0,
              "ticks": ""
             }
            },
            "type": "scattercarpet"
           }
          ],
          "scattergeo": [
           {
            "marker": {
             "colorbar": {
              "outlinewidth": 0,
              "ticks": ""
             }
            },
            "type": "scattergeo"
           }
          ],
          "scattergl": [
           {
            "marker": {
             "colorbar": {
              "outlinewidth": 0,
              "ticks": ""
             }
            },
            "type": "scattergl"
           }
          ],
          "scattermapbox": [
           {
            "marker": {
             "colorbar": {
              "outlinewidth": 0,
              "ticks": ""
             }
            },
            "type": "scattermapbox"
           }
          ],
          "scatterpolar": [
           {
            "marker": {
             "colorbar": {
              "outlinewidth": 0,
              "ticks": ""
             }
            },
            "type": "scatterpolar"
           }
          ],
          "scatterpolargl": [
           {
            "marker": {
             "colorbar": {
              "outlinewidth": 0,
              "ticks": ""
             }
            },
            "type": "scatterpolargl"
           }
          ],
          "scatterternary": [
           {
            "marker": {
             "colorbar": {
              "outlinewidth": 0,
              "ticks": ""
             }
            },
            "type": "scatterternary"
           }
          ],
          "surface": [
           {
            "colorbar": {
             "outlinewidth": 0,
             "ticks": ""
            },
            "colorscale": [
             [
              0,
              "#0d0887"
             ],
             [
              0.1111111111111111,
              "#46039f"
             ],
             [
              0.2222222222222222,
              "#7201a8"
             ],
             [
              0.3333333333333333,
              "#9c179e"
             ],
             [
              0.4444444444444444,
              "#bd3786"
             ],
             [
              0.5555555555555556,
              "#d8576b"
             ],
             [
              0.6666666666666666,
              "#ed7953"
             ],
             [
              0.7777777777777778,
              "#fb9f3a"
             ],
             [
              0.8888888888888888,
              "#fdca26"
             ],
             [
              1,
              "#f0f921"
             ]
            ],
            "type": "surface"
           }
          ],
          "table": [
           {
            "cells": {
             "fill": {
              "color": "#EBF0F8"
             },
             "line": {
              "color": "white"
             }
            },
            "header": {
             "fill": {
              "color": "#C8D4E3"
             },
             "line": {
              "color": "white"
             }
            },
            "type": "table"
           }
          ]
         },
         "layout": {
          "annotationdefaults": {
           "arrowcolor": "#2a3f5f",
           "arrowhead": 0,
           "arrowwidth": 1
          },
          "autotypenumbers": "strict",
          "coloraxis": {
           "colorbar": {
            "outlinewidth": 0,
            "ticks": ""
           }
          },
          "colorscale": {
           "diverging": [
            [
             0,
             "#8e0152"
            ],
            [
             0.1,
             "#c51b7d"
            ],
            [
             0.2,
             "#de77ae"
            ],
            [
             0.3,
             "#f1b6da"
            ],
            [
             0.4,
             "#fde0ef"
            ],
            [
             0.5,
             "#f7f7f7"
            ],
            [
             0.6,
             "#e6f5d0"
            ],
            [
             0.7,
             "#b8e186"
            ],
            [
             0.8,
             "#7fbc41"
            ],
            [
             0.9,
             "#4d9221"
            ],
            [
             1,
             "#276419"
            ]
           ],
           "sequential": [
            [
             0,
             "#0d0887"
            ],
            [
             0.1111111111111111,
             "#46039f"
            ],
            [
             0.2222222222222222,
             "#7201a8"
            ],
            [
             0.3333333333333333,
             "#9c179e"
            ],
            [
             0.4444444444444444,
             "#bd3786"
            ],
            [
             0.5555555555555556,
             "#d8576b"
            ],
            [
             0.6666666666666666,
             "#ed7953"
            ],
            [
             0.7777777777777778,
             "#fb9f3a"
            ],
            [
             0.8888888888888888,
             "#fdca26"
            ],
            [
             1,
             "#f0f921"
            ]
           ],
           "sequentialminus": [
            [
             0,
             "#0d0887"
            ],
            [
             0.1111111111111111,
             "#46039f"
            ],
            [
             0.2222222222222222,
             "#7201a8"
            ],
            [
             0.3333333333333333,
             "#9c179e"
            ],
            [
             0.4444444444444444,
             "#bd3786"
            ],
            [
             0.5555555555555556,
             "#d8576b"
            ],
            [
             0.6666666666666666,
             "#ed7953"
            ],
            [
             0.7777777777777778,
             "#fb9f3a"
            ],
            [
             0.8888888888888888,
             "#fdca26"
            ],
            [
             1,
             "#f0f921"
            ]
           ]
          },
          "colorway": [
           "#636efa",
           "#EF553B",
           "#00cc96",
           "#ab63fa",
           "#FFA15A",
           "#19d3f3",
           "#FF6692",
           "#B6E880",
           "#FF97FF",
           "#FECB52"
          ],
          "font": {
           "color": "#2a3f5f"
          },
          "geo": {
           "bgcolor": "white",
           "lakecolor": "white",
           "landcolor": "#E5ECF6",
           "showlakes": true,
           "showland": true,
           "subunitcolor": "white"
          },
          "hoverlabel": {
           "align": "left"
          },
          "hovermode": "closest",
          "mapbox": {
           "style": "light"
          },
          "paper_bgcolor": "white",
          "plot_bgcolor": "#E5ECF6",
          "polar": {
           "angularaxis": {
            "gridcolor": "white",
            "linecolor": "white",
            "ticks": ""
           },
           "bgcolor": "#E5ECF6",
           "radialaxis": {
            "gridcolor": "white",
            "linecolor": "white",
            "ticks": ""
           }
          },
          "scene": {
           "xaxis": {
            "backgroundcolor": "#E5ECF6",
            "gridcolor": "white",
            "gridwidth": 2,
            "linecolor": "white",
            "showbackground": true,
            "ticks": "",
            "zerolinecolor": "white"
           },
           "yaxis": {
            "backgroundcolor": "#E5ECF6",
            "gridcolor": "white",
            "gridwidth": 2,
            "linecolor": "white",
            "showbackground": true,
            "ticks": "",
            "zerolinecolor": "white"
           },
           "zaxis": {
            "backgroundcolor": "#E5ECF6",
            "gridcolor": "white",
            "gridwidth": 2,
            "linecolor": "white",
            "showbackground": true,
            "ticks": "",
            "zerolinecolor": "white"
           }
          },
          "shapedefaults": {
           "line": {
            "color": "#2a3f5f"
           }
          },
          "ternary": {
           "aaxis": {
            "gridcolor": "white",
            "linecolor": "white",
            "ticks": ""
           },
           "baxis": {
            "gridcolor": "white",
            "linecolor": "white",
            "ticks": ""
           },
           "bgcolor": "#E5ECF6",
           "caxis": {
            "gridcolor": "white",
            "linecolor": "white",
            "ticks": ""
           }
          },
          "title": {
           "x": 0.05
          },
          "xaxis": {
           "automargin": true,
           "gridcolor": "white",
           "linecolor": "white",
           "ticks": "",
           "title": {
            "standoff": 15
           },
           "zerolinecolor": "white",
           "zerolinewidth": 2
          },
          "yaxis": {
           "automargin": true,
           "gridcolor": "white",
           "linecolor": "white",
           "ticks": "",
           "title": {
            "standoff": 15
           },
           "zerolinecolor": "white",
           "zerolinewidth": 2
          }
         }
        },
        "width": 1500,
        "xaxis": {
         "anchor": "y",
         "categoryarray": [
          "VERIFICATION FAILED",
          "VERIFICATION SUCCESSFUL",
          "VERIFICATION UNKNOWN",
          "ERROR"
         ],
         "categoryorder": "array",
         "domain": [
          0,
          0.49
         ],
         "title": {
          "text": "ESBMC_Status"
         }
        },
        "xaxis2": {
         "anchor": "y2",
         "categoryarray": [
          "VERIFICATION FAILED",
          "VERIFICATION SUCCESSFUL",
          "VERIFICATION UNKNOWN",
          "ERROR"
         ],
         "categoryorder": "array",
         "domain": [
          0.51,
          1
         ],
         "matches": "x",
         "title": {
          "text": "ESBMC_Status"
         }
        },
        "xaxis3": {
         "anchor": "y3",
         "domain": [
          0,
          0.49
         ],
         "matches": "x",
         "showticklabels": false
        },
        "xaxis4": {
         "anchor": "y4",
         "domain": [
          0.51,
          1
         ],
         "matches": "x",
         "showticklabels": false
        },
        "xaxis5": {
         "anchor": "y5",
         "domain": [
          0,
          0.49
         ],
         "matches": "x",
         "showticklabels": false
        },
        "xaxis6": {
         "anchor": "y6",
         "domain": [
          0.51,
          1
         ],
         "matches": "x",
         "showticklabels": false
        },
        "yaxis": {
         "anchor": "x",
         "domain": [
          0,
          0.2866666666666666
         ],
         "title": {
          "text": "Percent"
         }
        },
        "yaxis2": {
         "anchor": "x2",
         "domain": [
          0,
          0.2866666666666666
         ],
         "matches": "y",
         "showticklabels": false
        },
        "yaxis3": {
         "anchor": "x3",
         "domain": [
          0.35666666666666663,
          0.6433333333333333
         ],
         "matches": "y",
         "title": {
          "text": "Percent"
         }
        },
        "yaxis4": {
         "anchor": "x4",
         "domain": [
          0.35666666666666663,
          0.6433333333333333
         ],
         "matches": "y",
         "showticklabels": false
        },
        "yaxis5": {
         "anchor": "x5",
         "domain": [
          0.7133333333333333,
          0.9999999999999999
         ],
         "matches": "y",
         "title": {
          "text": "Percent"
         }
        },
        "yaxis6": {
         "anchor": "x6",
         "domain": [
          0.7133333333333333,
          0.9999999999999999
         ],
         "matches": "y",
         "showticklabels": false
        }
       }
      },
      "text/html": [
       "<div>                            <div id=\"af983ab1-a6a3-447b-a218-ae5e6c23d2f8\" class=\"plotly-graph-div\" style=\"height:1500px; width:1500px;\"></div>            <script type=\"text/javascript\">                require([\"plotly\"], function(Plotly) {                    window.PLOTLYENV=window.PLOTLYENV || {};                                    if (document.getElementById(\"af983ab1-a6a3-447b-a218-ae5e6c23d2f8\")) {                    Plotly.newPlot(                        \"af983ab1-a6a3-447b-a218-ae5e6c23d2f8\",                        [{\"alignmentgroup\":\"True\",\"hovertemplate\":\"ESBMC_Status=%{x}<br>Model=mistral<br>Percent=%{y}<extra></extra>\",\"legendgroup\":\"VERIFICATION FAILED\",\"marker\":{\"color\":\"#B53A6D\",\"pattern\":{\"shape\":\"\"}},\"name\":\"VERIFICATION FAILED\",\"offsetgroup\":\"VERIFICATION FAILED\",\"orientation\":\"v\",\"showlegend\":true,\"textposition\":\"auto\",\"x\":[\"VERIFICATION FAILED\"],\"xaxis\":\"x5\",\"y\":[41.7910447761194],\"yaxis\":\"y5\",\"type\":\"bar\"},{\"alignmentgroup\":\"True\",\"hovertemplate\":\"ESBMC_Status=%{x}<br>Model=wizard_coder<br>Percent=%{y}<extra></extra>\",\"legendgroup\":\"VERIFICATION FAILED\",\"marker\":{\"color\":\"#B53A6D\",\"pattern\":{\"shape\":\"\"}},\"name\":\"VERIFICATION FAILED\",\"offsetgroup\":\"VERIFICATION FAILED\",\"orientation\":\"v\",\"showlegend\":false,\"textposition\":\"auto\",\"x\":[\"VERIFICATION FAILED\"],\"xaxis\":\"x6\",\"y\":[61.19402985074627],\"yaxis\":\"y6\",\"type\":\"bar\"},{\"alignmentgroup\":\"True\",\"hovertemplate\":\"ESBMC_Status=%{x}<br>Model=llama<br>Percent=%{y}<extra></extra>\",\"legendgroup\":\"VERIFICATION FAILED\",\"marker\":{\"color\":\"#B53A6D\",\"pattern\":{\"shape\":\"\"}},\"name\":\"VERIFICATION FAILED\",\"offsetgroup\":\"VERIFICATION FAILED\",\"orientation\":\"v\",\"showlegend\":false,\"textposition\":\"auto\",\"x\":[\"VERIFICATION FAILED\"],\"xaxis\":\"x3\",\"y\":[51.61290322580645],\"yaxis\":\"y3\",\"type\":\"bar\"},{\"alignmentgroup\":\"True\",\"hovertemplate\":\"ESBMC_Status=%{x}<br>Model=GPT-3.5<br>Percent=%{y}<extra></extra>\",\"legendgroup\":\"VERIFICATION FAILED\",\"marker\":{\"color\":\"#B53A6D\",\"pattern\":{\"shape\":\"\"}},\"name\":\"VERIFICATION FAILED\",\"offsetgroup\":\"VERIFICATION FAILED\",\"orientation\":\"v\",\"showlegend\":false,\"textposition\":\"auto\",\"x\":[\"VERIFICATION FAILED\"],\"xaxis\":\"x4\",\"y\":[41.7910447761194],\"yaxis\":\"y4\",\"type\":\"bar\"},{\"alignmentgroup\":\"True\",\"hovertemplate\":\"ESBMC_Status=%{x}<br>Model=GPT-4<br>Percent=%{y}<extra></extra>\",\"legendgroup\":\"VERIFICATION FAILED\",\"marker\":{\"color\":\"#B53A6D\",\"pattern\":{\"shape\":\"\"}},\"name\":\"VERIFICATION FAILED\",\"offsetgroup\":\"VERIFICATION FAILED\",\"orientation\":\"v\",\"showlegend\":false,\"textposition\":\"auto\",\"x\":[\"VERIFICATION FAILED\"],\"xaxis\":\"x\",\"y\":[47.76119402985074],\"yaxis\":\"y\",\"type\":\"bar\"},{\"alignmentgroup\":\"True\",\"hovertemplate\":\"ESBMC_Status=%{x}<br>Model=mistral<br>Percent=%{y}<extra></extra>\",\"legendgroup\":\"VERIFICATION SUCCESSFUL\",\"marker\":{\"color\":\"#7AC4A5\",\"pattern\":{\"shape\":\"\"}},\"name\":\"VERIFICATION SUCCESSFUL\",\"offsetgroup\":\"VERIFICATION SUCCESSFUL\",\"orientation\":\"v\",\"showlegend\":true,\"textposition\":\"auto\",\"x\":[\"VERIFICATION SUCCESSFUL\"],\"xaxis\":\"x5\",\"y\":[31.343283582089555],\"yaxis\":\"y5\",\"type\":\"bar\"},{\"alignmentgroup\":\"True\",\"hovertemplate\":\"ESBMC_Status=%{x}<br>Model=wizard_coder<br>Percent=%{y}<extra></extra>\",\"legendgroup\":\"VERIFICATION SUCCESSFUL\",\"marker\":{\"color\":\"#7AC4A5\",\"pattern\":{\"shape\":\"\"}},\"name\":\"VERIFICATION SUCCESSFUL\",\"offsetgroup\":\"VERIFICATION SUCCESSFUL\",\"orientation\":\"v\",\"showlegend\":false,\"textposition\":\"auto\",\"x\":[\"VERIFICATION SUCCESSFUL\"],\"xaxis\":\"x6\",\"y\":[25.37313432835821],\"yaxis\":\"y6\",\"type\":\"bar\"},{\"alignmentgroup\":\"True\",\"hovertemplate\":\"ESBMC_Status=%{x}<br>Model=llama<br>Percent=%{y}<extra></extra>\",\"legendgroup\":\"VERIFICATION SUCCESSFUL\",\"marker\":{\"color\":\"#7AC4A5\",\"pattern\":{\"shape\":\"\"}},\"name\":\"VERIFICATION SUCCESSFUL\",\"offsetgroup\":\"VERIFICATION SUCCESSFUL\",\"orientation\":\"v\",\"showlegend\":false,\"textposition\":\"auto\",\"x\":[\"VERIFICATION SUCCESSFUL\"],\"xaxis\":\"x3\",\"y\":[20.967741935483872],\"yaxis\":\"y3\",\"type\":\"bar\"},{\"alignmentgroup\":\"True\",\"hovertemplate\":\"ESBMC_Status=%{x}<br>Model=GPT-3.5<br>Percent=%{y}<extra></extra>\",\"legendgroup\":\"VERIFICATION SUCCESSFUL\",\"marker\":{\"color\":\"#7AC4A5\",\"pattern\":{\"shape\":\"\"}},\"name\":\"VERIFICATION SUCCESSFUL\",\"offsetgroup\":\"VERIFICATION SUCCESSFUL\",\"orientation\":\"v\",\"showlegend\":false,\"textposition\":\"auto\",\"x\":[\"VERIFICATION SUCCESSFUL\"],\"xaxis\":\"x4\",\"y\":[40.298507462686565],\"yaxis\":\"y4\",\"type\":\"bar\"},{\"alignmentgroup\":\"True\",\"hovertemplate\":\"ESBMC_Status=%{x}<br>Model=GPT-4<br>Percent=%{y}<extra></extra>\",\"legendgroup\":\"VERIFICATION SUCCESSFUL\",\"marker\":{\"color\":\"#7AC4A5\",\"pattern\":{\"shape\":\"\"}},\"name\":\"VERIFICATION SUCCESSFUL\",\"offsetgroup\":\"VERIFICATION SUCCESSFUL\",\"orientation\":\"v\",\"showlegend\":false,\"textposition\":\"auto\",\"x\":[\"VERIFICATION SUCCESSFUL\"],\"xaxis\":\"x\",\"y\":[35.82089552238806],\"yaxis\":\"y\",\"type\":\"bar\"},{\"alignmentgroup\":\"True\",\"hovertemplate\":\"ESBMC_Status=%{x}<br>Model=mistral<br>Percent=%{y}<extra></extra>\",\"legendgroup\":\"VERIFICATION UNKNOWN\",\"marker\":{\"color\":\"#003DA6\",\"pattern\":{\"shape\":\"\"}},\"name\":\"VERIFICATION UNKNOWN\",\"offsetgroup\":\"VERIFICATION UNKNOWN\",\"orientation\":\"v\",\"showlegend\":true,\"textposition\":\"auto\",\"x\":[\"VERIFICATION UNKNOWN\"],\"xaxis\":\"x5\",\"y\":[8.955223880597014],\"yaxis\":\"y5\",\"type\":\"bar\"},{\"alignmentgroup\":\"True\",\"hovertemplate\":\"ESBMC_Status=%{x}<br>Model=wizard_coder<br>Percent=%{y}<extra></extra>\",\"legendgroup\":\"VERIFICATION UNKNOWN\",\"marker\":{\"color\":\"#003DA6\",\"pattern\":{\"shape\":\"\"}},\"name\":\"VERIFICATION UNKNOWN\",\"offsetgroup\":\"VERIFICATION UNKNOWN\",\"orientation\":\"v\",\"showlegend\":false,\"textposition\":\"auto\",\"x\":[\"VERIFICATION UNKNOWN\"],\"xaxis\":\"x6\",\"y\":[4.477611940298507],\"yaxis\":\"y6\",\"type\":\"bar\"},{\"alignmentgroup\":\"True\",\"hovertemplate\":\"ESBMC_Status=%{x}<br>Model=llama<br>Percent=%{y}<extra></extra>\",\"legendgroup\":\"VERIFICATION UNKNOWN\",\"marker\":{\"color\":\"#003DA6\",\"pattern\":{\"shape\":\"\"}},\"name\":\"VERIFICATION UNKNOWN\",\"offsetgroup\":\"VERIFICATION UNKNOWN\",\"orientation\":\"v\",\"showlegend\":false,\"textposition\":\"auto\",\"x\":[\"VERIFICATION UNKNOWN\"],\"xaxis\":\"x3\",\"y\":[6.451612903225806],\"yaxis\":\"y3\",\"type\":\"bar\"},{\"alignmentgroup\":\"True\",\"hovertemplate\":\"ESBMC_Status=%{x}<br>Model=GPT-3.5<br>Percent=%{y}<extra></extra>\",\"legendgroup\":\"VERIFICATION UNKNOWN\",\"marker\":{\"color\":\"#003DA6\",\"pattern\":{\"shape\":\"\"}},\"name\":\"VERIFICATION UNKNOWN\",\"offsetgroup\":\"VERIFICATION UNKNOWN\",\"orientation\":\"v\",\"showlegend\":false,\"textposition\":\"auto\",\"x\":[\"VERIFICATION UNKNOWN\"],\"xaxis\":\"x4\",\"y\":[13.432835820895523],\"yaxis\":\"y4\",\"type\":\"bar\"},{\"alignmentgroup\":\"True\",\"hovertemplate\":\"ESBMC_Status=%{x}<br>Model=GPT-4<br>Percent=%{y}<extra></extra>\",\"legendgroup\":\"VERIFICATION UNKNOWN\",\"marker\":{\"color\":\"#003DA6\",\"pattern\":{\"shape\":\"\"}},\"name\":\"VERIFICATION UNKNOWN\",\"offsetgroup\":\"VERIFICATION UNKNOWN\",\"orientation\":\"v\",\"showlegend\":false,\"textposition\":\"auto\",\"x\":[\"VERIFICATION UNKNOWN\"],\"xaxis\":\"x\",\"y\":[8.955223880597014],\"yaxis\":\"y\",\"type\":\"bar\"},{\"alignmentgroup\":\"True\",\"hovertemplate\":\"ESBMC_Status=%{x}<br>Model=mistral<br>Percent=%{y}<extra></extra>\",\"legendgroup\":\"ERROR\",\"marker\":{\"color\":\"#F17F4C\",\"pattern\":{\"shape\":\"\"}},\"name\":\"ERROR\",\"offsetgroup\":\"ERROR\",\"orientation\":\"v\",\"showlegend\":true,\"textposition\":\"auto\",\"x\":[\"ERROR\"],\"xaxis\":\"x5\",\"y\":[17.91044776119403],\"yaxis\":\"y5\",\"type\":\"bar\"},{\"alignmentgroup\":\"True\",\"hovertemplate\":\"ESBMC_Status=%{x}<br>Model=wizard_coder<br>Percent=%{y}<extra></extra>\",\"legendgroup\":\"ERROR\",\"marker\":{\"color\":\"#F17F4C\",\"pattern\":{\"shape\":\"\"}},\"name\":\"ERROR\",\"offsetgroup\":\"ERROR\",\"orientation\":\"v\",\"showlegend\":false,\"textposition\":\"auto\",\"x\":[\"ERROR\"],\"xaxis\":\"x6\",\"y\":[8.955223880597014],\"yaxis\":\"y6\",\"type\":\"bar\"},{\"alignmentgroup\":\"True\",\"hovertemplate\":\"ESBMC_Status=%{x}<br>Model=llama<br>Percent=%{y}<extra></extra>\",\"legendgroup\":\"ERROR\",\"marker\":{\"color\":\"#F17F4C\",\"pattern\":{\"shape\":\"\"}},\"name\":\"ERROR\",\"offsetgroup\":\"ERROR\",\"orientation\":\"v\",\"showlegend\":false,\"textposition\":\"auto\",\"x\":[\"ERROR\"],\"xaxis\":\"x3\",\"y\":[20.967741935483872],\"yaxis\":\"y3\",\"type\":\"bar\"},{\"alignmentgroup\":\"True\",\"hovertemplate\":\"ESBMC_Status=%{x}<br>Model=GPT-3.5<br>Percent=%{y}<extra></extra>\",\"legendgroup\":\"ERROR\",\"marker\":{\"color\":\"#F17F4C\",\"pattern\":{\"shape\":\"\"}},\"name\":\"ERROR\",\"offsetgroup\":\"ERROR\",\"orientation\":\"v\",\"showlegend\":false,\"textposition\":\"auto\",\"x\":[\"ERROR\"],\"xaxis\":\"x4\",\"y\":[4.477611940298507],\"yaxis\":\"y4\",\"type\":\"bar\"},{\"alignmentgroup\":\"True\",\"hovertemplate\":\"ESBMC_Status=%{x}<br>Model=GPT-4<br>Percent=%{y}<extra></extra>\",\"legendgroup\":\"ERROR\",\"marker\":{\"color\":\"#F17F4C\",\"pattern\":{\"shape\":\"\"}},\"name\":\"ERROR\",\"offsetgroup\":\"ERROR\",\"orientation\":\"v\",\"showlegend\":false,\"textposition\":\"auto\",\"x\":[\"ERROR\"],\"xaxis\":\"x\",\"y\":[7.462686567164178],\"yaxis\":\"y\",\"type\":\"bar\"}],                        {\"template\":{\"data\":{\"histogram2dcontour\":[{\"type\":\"histogram2dcontour\",\"colorbar\":{\"outlinewidth\":0,\"ticks\":\"\"},\"colorscale\":[[0.0,\"#0d0887\"],[0.1111111111111111,\"#46039f\"],[0.2222222222222222,\"#7201a8\"],[0.3333333333333333,\"#9c179e\"],[0.4444444444444444,\"#bd3786\"],[0.5555555555555556,\"#d8576b\"],[0.6666666666666666,\"#ed7953\"],[0.7777777777777778,\"#fb9f3a\"],[0.8888888888888888,\"#fdca26\"],[1.0,\"#f0f921\"]]}],\"choropleth\":[{\"type\":\"choropleth\",\"colorbar\":{\"outlinewidth\":0,\"ticks\":\"\"}}],\"histogram2d\":[{\"type\":\"histogram2d\",\"colorbar\":{\"outlinewidth\":0,\"ticks\":\"\"},\"colorscale\":[[0.0,\"#0d0887\"],[0.1111111111111111,\"#46039f\"],[0.2222222222222222,\"#7201a8\"],[0.3333333333333333,\"#9c179e\"],[0.4444444444444444,\"#bd3786\"],[0.5555555555555556,\"#d8576b\"],[0.6666666666666666,\"#ed7953\"],[0.7777777777777778,\"#fb9f3a\"],[0.8888888888888888,\"#fdca26\"],[1.0,\"#f0f921\"]]}],\"heatmap\":[{\"type\":\"heatmap\",\"colorbar\":{\"outlinewidth\":0,\"ticks\":\"\"},\"colorscale\":[[0.0,\"#0d0887\"],[0.1111111111111111,\"#46039f\"],[0.2222222222222222,\"#7201a8\"],[0.3333333333333333,\"#9c179e\"],[0.4444444444444444,\"#bd3786\"],[0.5555555555555556,\"#d8576b\"],[0.6666666666666666,\"#ed7953\"],[0.7777777777777778,\"#fb9f3a\"],[0.8888888888888888,\"#fdca26\"],[1.0,\"#f0f921\"]]}],\"heatmapgl\":[{\"type\":\"heatmapgl\",\"colorbar\":{\"outlinewidth\":0,\"ticks\":\"\"},\"colorscale\":[[0.0,\"#0d0887\"],[0.1111111111111111,\"#46039f\"],[0.2222222222222222,\"#7201a8\"],[0.3333333333333333,\"#9c179e\"],[0.4444444444444444,\"#bd3786\"],[0.5555555555555556,\"#d8576b\"],[0.6666666666666666,\"#ed7953\"],[0.7777777777777778,\"#fb9f3a\"],[0.8888888888888888,\"#fdca26\"],[1.0,\"#f0f921\"]]}],\"contourcarpet\":[{\"type\":\"contourcarpet\",\"colorbar\":{\"outlinewidth\":0,\"ticks\":\"\"}}],\"contour\":[{\"type\":\"contour\",\"colorbar\":{\"outlinewidth\":0,\"ticks\":\"\"},\"colorscale\":[[0.0,\"#0d0887\"],[0.1111111111111111,\"#46039f\"],[0.2222222222222222,\"#7201a8\"],[0.3333333333333333,\"#9c179e\"],[0.4444444444444444,\"#bd3786\"],[0.5555555555555556,\"#d8576b\"],[0.6666666666666666,\"#ed7953\"],[0.7777777777777778,\"#fb9f3a\"],[0.8888888888888888,\"#fdca26\"],[1.0,\"#f0f921\"]]}],\"surface\":[{\"type\":\"surface\",\"colorbar\":{\"outlinewidth\":0,\"ticks\":\"\"},\"colorscale\":[[0.0,\"#0d0887\"],[0.1111111111111111,\"#46039f\"],[0.2222222222222222,\"#7201a8\"],[0.3333333333333333,\"#9c179e\"],[0.4444444444444444,\"#bd3786\"],[0.5555555555555556,\"#d8576b\"],[0.6666666666666666,\"#ed7953\"],[0.7777777777777778,\"#fb9f3a\"],[0.8888888888888888,\"#fdca26\"],[1.0,\"#f0f921\"]]}],\"mesh3d\":[{\"type\":\"mesh3d\",\"colorbar\":{\"outlinewidth\":0,\"ticks\":\"\"}}],\"scatter\":[{\"fillpattern\":{\"fillmode\":\"overlay\",\"size\":10,\"solidity\":0.2},\"type\":\"scatter\"}],\"parcoords\":[{\"type\":\"parcoords\",\"line\":{\"colorbar\":{\"outlinewidth\":0,\"ticks\":\"\"}}}],\"scatterpolargl\":[{\"type\":\"scatterpolargl\",\"marker\":{\"colorbar\":{\"outlinewidth\":0,\"ticks\":\"\"}}}],\"bar\":[{\"error_x\":{\"color\":\"#2a3f5f\"},\"error_y\":{\"color\":\"#2a3f5f\"},\"marker\":{\"line\":{\"color\":\"#E5ECF6\",\"width\":0.5},\"pattern\":{\"fillmode\":\"overlay\",\"size\":10,\"solidity\":0.2}},\"type\":\"bar\"}],\"scattergeo\":[{\"type\":\"scattergeo\",\"marker\":{\"colorbar\":{\"outlinewidth\":0,\"ticks\":\"\"}}}],\"scatterpolar\":[{\"type\":\"scatterpolar\",\"marker\":{\"colorbar\":{\"outlinewidth\":0,\"ticks\":\"\"}}}],\"histogram\":[{\"marker\":{\"pattern\":{\"fillmode\":\"overlay\",\"size\":10,\"solidity\":0.2}},\"type\":\"histogram\"}],\"scattergl\":[{\"type\":\"scattergl\",\"marker\":{\"colorbar\":{\"outlinewidth\":0,\"ticks\":\"\"}}}],\"scatter3d\":[{\"type\":\"scatter3d\",\"line\":{\"colorbar\":{\"outlinewidth\":0,\"ticks\":\"\"}},\"marker\":{\"colorbar\":{\"outlinewidth\":0,\"ticks\":\"\"}}}],\"scattermapbox\":[{\"type\":\"scattermapbox\",\"marker\":{\"colorbar\":{\"outlinewidth\":0,\"ticks\":\"\"}}}],\"scatterternary\":[{\"type\":\"scatterternary\",\"marker\":{\"colorbar\":{\"outlinewidth\":0,\"ticks\":\"\"}}}],\"scattercarpet\":[{\"type\":\"scattercarpet\",\"marker\":{\"colorbar\":{\"outlinewidth\":0,\"ticks\":\"\"}}}],\"carpet\":[{\"aaxis\":{\"endlinecolor\":\"#2a3f5f\",\"gridcolor\":\"white\",\"linecolor\":\"white\",\"minorgridcolor\":\"white\",\"startlinecolor\":\"#2a3f5f\"},\"baxis\":{\"endlinecolor\":\"#2a3f5f\",\"gridcolor\":\"white\",\"linecolor\":\"white\",\"minorgridcolor\":\"white\",\"startlinecolor\":\"#2a3f5f\"},\"type\":\"carpet\"}],\"table\":[{\"cells\":{\"fill\":{\"color\":\"#EBF0F8\"},\"line\":{\"color\":\"white\"}},\"header\":{\"fill\":{\"color\":\"#C8D4E3\"},\"line\":{\"color\":\"white\"}},\"type\":\"table\"}],\"barpolar\":[{\"marker\":{\"line\":{\"color\":\"#E5ECF6\",\"width\":0.5},\"pattern\":{\"fillmode\":\"overlay\",\"size\":10,\"solidity\":0.2}},\"type\":\"barpolar\"}],\"pie\":[{\"automargin\":true,\"type\":\"pie\"}]},\"layout\":{\"autotypenumbers\":\"strict\",\"colorway\":[\"#636efa\",\"#EF553B\",\"#00cc96\",\"#ab63fa\",\"#FFA15A\",\"#19d3f3\",\"#FF6692\",\"#B6E880\",\"#FF97FF\",\"#FECB52\"],\"font\":{\"color\":\"#2a3f5f\"},\"hovermode\":\"closest\",\"hoverlabel\":{\"align\":\"left\"},\"paper_bgcolor\":\"white\",\"plot_bgcolor\":\"#E5ECF6\",\"polar\":{\"bgcolor\":\"#E5ECF6\",\"angularaxis\":{\"gridcolor\":\"white\",\"linecolor\":\"white\",\"ticks\":\"\"},\"radialaxis\":{\"gridcolor\":\"white\",\"linecolor\":\"white\",\"ticks\":\"\"}},\"ternary\":{\"bgcolor\":\"#E5ECF6\",\"aaxis\":{\"gridcolor\":\"white\",\"linecolor\":\"white\",\"ticks\":\"\"},\"baxis\":{\"gridcolor\":\"white\",\"linecolor\":\"white\",\"ticks\":\"\"},\"caxis\":{\"gridcolor\":\"white\",\"linecolor\":\"white\",\"ticks\":\"\"}},\"coloraxis\":{\"colorbar\":{\"outlinewidth\":0,\"ticks\":\"\"}},\"colorscale\":{\"sequential\":[[0.0,\"#0d0887\"],[0.1111111111111111,\"#46039f\"],[0.2222222222222222,\"#7201a8\"],[0.3333333333333333,\"#9c179e\"],[0.4444444444444444,\"#bd3786\"],[0.5555555555555556,\"#d8576b\"],[0.6666666666666666,\"#ed7953\"],[0.7777777777777778,\"#fb9f3a\"],[0.8888888888888888,\"#fdca26\"],[1.0,\"#f0f921\"]],\"sequentialminus\":[[0.0,\"#0d0887\"],[0.1111111111111111,\"#46039f\"],[0.2222222222222222,\"#7201a8\"],[0.3333333333333333,\"#9c179e\"],[0.4444444444444444,\"#bd3786\"],[0.5555555555555556,\"#d8576b\"],[0.6666666666666666,\"#ed7953\"],[0.7777777777777778,\"#fb9f3a\"],[0.8888888888888888,\"#fdca26\"],[1.0,\"#f0f921\"]],\"diverging\":[[0,\"#8e0152\"],[0.1,\"#c51b7d\"],[0.2,\"#de77ae\"],[0.3,\"#f1b6da\"],[0.4,\"#fde0ef\"],[0.5,\"#f7f7f7\"],[0.6,\"#e6f5d0\"],[0.7,\"#b8e186\"],[0.8,\"#7fbc41\"],[0.9,\"#4d9221\"],[1,\"#276419\"]]},\"xaxis\":{\"gridcolor\":\"white\",\"linecolor\":\"white\",\"ticks\":\"\",\"title\":{\"standoff\":15},\"zerolinecolor\":\"white\",\"automargin\":true,\"zerolinewidth\":2},\"yaxis\":{\"gridcolor\":\"white\",\"linecolor\":\"white\",\"ticks\":\"\",\"title\":{\"standoff\":15},\"zerolinecolor\":\"white\",\"automargin\":true,\"zerolinewidth\":2},\"scene\":{\"xaxis\":{\"backgroundcolor\":\"#E5ECF6\",\"gridcolor\":\"white\",\"linecolor\":\"white\",\"showbackground\":true,\"ticks\":\"\",\"zerolinecolor\":\"white\",\"gridwidth\":2},\"yaxis\":{\"backgroundcolor\":\"#E5ECF6\",\"gridcolor\":\"white\",\"linecolor\":\"white\",\"showbackground\":true,\"ticks\":\"\",\"zerolinecolor\":\"white\",\"gridwidth\":2},\"zaxis\":{\"backgroundcolor\":\"#E5ECF6\",\"gridcolor\":\"white\",\"linecolor\":\"white\",\"showbackground\":true,\"ticks\":\"\",\"zerolinecolor\":\"white\",\"gridwidth\":2}},\"shapedefaults\":{\"line\":{\"color\":\"#2a3f5f\"}},\"annotationdefaults\":{\"arrowcolor\":\"#2a3f5f\",\"arrowhead\":0,\"arrowwidth\":1},\"geo\":{\"bgcolor\":\"white\",\"landcolor\":\"#E5ECF6\",\"subunitcolor\":\"white\",\"showland\":true,\"showlakes\":true,\"lakecolor\":\"white\"},\"title\":{\"x\":0.05},\"mapbox\":{\"style\":\"light\"}}},\"xaxis\":{\"anchor\":\"y\",\"domain\":[0.0,0.49],\"title\":{\"text\":\"ESBMC_Status\"},\"categoryorder\":\"array\",\"categoryarray\":[\"VERIFICATION FAILED\",\"VERIFICATION SUCCESSFUL\",\"VERIFICATION UNKNOWN\",\"ERROR\"]},\"yaxis\":{\"anchor\":\"x\",\"domain\":[0.0,0.2866666666666666],\"title\":{\"text\":\"Percent\"}},\"xaxis2\":{\"anchor\":\"y2\",\"domain\":[0.51,1.0],\"matches\":\"x\",\"title\":{\"text\":\"ESBMC_Status\"},\"categoryorder\":\"array\",\"categoryarray\":[\"VERIFICATION FAILED\",\"VERIFICATION SUCCESSFUL\",\"VERIFICATION UNKNOWN\",\"ERROR\"]},\"yaxis2\":{\"anchor\":\"x2\",\"domain\":[0.0,0.2866666666666666],\"matches\":\"y\",\"showticklabels\":false},\"xaxis3\":{\"anchor\":\"y3\",\"domain\":[0.0,0.49],\"matches\":\"x\",\"showticklabels\":false},\"yaxis3\":{\"anchor\":\"x3\",\"domain\":[0.35666666666666663,0.6433333333333333],\"matches\":\"y\",\"title\":{\"text\":\"Percent\"}},\"xaxis4\":{\"anchor\":\"y4\",\"domain\":[0.51,1.0],\"matches\":\"x\",\"showticklabels\":false},\"yaxis4\":{\"anchor\":\"x4\",\"domain\":[0.35666666666666663,0.6433333333333333],\"matches\":\"y\",\"showticklabels\":false},\"xaxis5\":{\"anchor\":\"y5\",\"domain\":[0.0,0.49],\"matches\":\"x\",\"showticklabels\":false},\"yaxis5\":{\"anchor\":\"x5\",\"domain\":[0.7133333333333333,0.9999999999999999],\"matches\":\"y\",\"title\":{\"text\":\"Percent\"}},\"xaxis6\":{\"anchor\":\"y6\",\"domain\":[0.51,1.0],\"matches\":\"x\",\"showticklabels\":false},\"yaxis6\":{\"anchor\":\"x6\",\"domain\":[0.7133333333333333,0.9999999999999999],\"matches\":\"y\",\"showticklabels\":false},\"annotations\":[{\"font\":{},\"showarrow\":false,\"text\":\"Model=GPT-4\",\"x\":0.245,\"xanchor\":\"center\",\"xref\":\"paper\",\"y\":0.2866666666666666,\"yanchor\":\"bottom\",\"yref\":\"paper\"},{\"font\":{},\"showarrow\":false,\"text\":\"Model=llama\",\"x\":0.245,\"xanchor\":\"center\",\"xref\":\"paper\",\"y\":0.6433333333333333,\"yanchor\":\"bottom\",\"yref\":\"paper\"},{\"font\":{},\"showarrow\":false,\"text\":\"Model=GPT-3.5\",\"x\":0.755,\"xanchor\":\"center\",\"xref\":\"paper\",\"y\":0.6433333333333333,\"yanchor\":\"bottom\",\"yref\":\"paper\"},{\"font\":{},\"showarrow\":false,\"text\":\"Model=mistral\",\"x\":0.245,\"xanchor\":\"center\",\"xref\":\"paper\",\"y\":0.9999999999999999,\"yanchor\":\"bottom\",\"yref\":\"paper\"},{\"font\":{},\"showarrow\":false,\"text\":\"Model=wizard_coder\",\"x\":0.755,\"xanchor\":\"center\",\"xref\":\"paper\",\"y\":0.9999999999999999,\"yanchor\":\"bottom\",\"yref\":\"paper\"}],\"legend\":{\"title\":{\"text\":\"ESBMC_Status\"},\"tracegroupgap\":0},\"margin\":{\"t\":60},\"barmode\":\"relative\",\"height\":1500,\"width\":1500},                        {\"responsive\": true}                    ).then(function(){\n",
       "                            \n",
       "var gd = document.getElementById('af983ab1-a6a3-447b-a218-ae5e6c23d2f8');\n",
       "var x = new MutationObserver(function (mutations, observer) {{\n",
       "        var display = window.getComputedStyle(gd).display;\n",
       "        if (!display || display === 'none') {{\n",
       "            console.log([gd, 'removed!']);\n",
       "            Plotly.purge(gd);\n",
       "            observer.disconnect();\n",
       "        }}\n",
       "}});\n",
       "\n",
       "// Listen for the removal of the full notebook cells\n",
       "var notebookContainer = gd.closest('#notebook-container');\n",
       "if (notebookContainer) {{\n",
       "    x.observe(notebookContainer, {childList: true});\n",
       "}}\n",
       "\n",
       "// Listen for the clearing of the current output cell\n",
       "var outputEl = gd.closest('.output');\n",
       "if (outputEl) {{\n",
       "    x.observe(outputEl, {childList: true});\n",
       "}}\n",
       "\n",
       "                        })                };                });            </script>        </div>"
      ]
     },
     "metadata": {},
     "output_type": "display_data"
    }
   ],
   "source": [
    "# Define custom colors for each variable\n",
    "cset_colors = {\n",
    "    \"VERIFICATION FAILED\": \"#B53A6D\",\n",
    "    \"VERIFICATION SUCCESSFUL\": \"#7AC4A5\",\n",
    "    \"VERIFICATION UNKNOWN\": \"#003DA6\",\n",
    "    \"ERROR\": \"#F17F4C\"}\n",
    "\n",
    "# Define custom colors for each variable\n",
    "# cset_colors = {\n",
    "#     \"VERIFICATION FAILED\": \"red\",\n",
    "#     \"VERIFICATION SUCCESSFUL\": \"green\",\n",
    "#     \"VERIFICATION UNKNOWN\": \"blue\",\n",
    "#     \"ERROR\": \"orange\"}\n",
    "\n",
    "fig = px.bar(narrow_pcts, x=\"ESBMC_Status\",\n",
    "             y=\"Percent\", color=\"ESBMC_Status\", facet_col=\"Model\", \n",
    "             color_discrete_map = cset_colors, facet_col_wrap=2)\n",
    "\n",
    "\n",
    "# Update the layout to adjust height and width\n",
    "fig.update_layout(\n",
    "    height=1500,  # Set the height to 800 pixels\n",
    "    width=1500,  # Set the width to 1200 pixels\n",
    ")\n",
    "\n",
    "fig.show()\n",
    "\n",
    "fig.write_image(\"faceted.png\")"
   ]
  },
  {
   "cell_type": "code",
   "execution_count": null,
   "id": "7764b691",
   "metadata": {},
   "outputs": [],
   "source": []
  }
 ],
 "metadata": {
  "kernelspec": {
   "display_name": "Python 3 (ipykernel)",
   "language": "python",
   "name": "python3"
  },
  "language_info": {
   "codemirror_mode": {
    "name": "ipython",
    "version": 3
   },
   "file_extension": ".py",
   "mimetype": "text/x-python",
   "name": "python",
   "nbconvert_exporter": "python",
   "pygments_lexer": "ipython3",
   "version": "3.11.5"
  }
 },
 "nbformat": 4,
 "nbformat_minor": 5
}
