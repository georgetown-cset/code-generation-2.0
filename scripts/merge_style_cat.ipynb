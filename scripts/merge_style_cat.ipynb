{
 "cells": [
  {
   "cell_type": "markdown",
   "metadata": {},
   "source": [
    "## Import data"
   ]
  },
  {
   "cell_type": "code",
   "execution_count": 1,
   "metadata": {},
   "outputs": [],
   "source": [
    "import pandas as pd"
   ]
  },
  {
   "cell_type": "code",
   "execution_count": 2,
   "metadata": {},
   "outputs": [
    {
     "name": "stdout",
     "output_type": "stream",
     "text": [
      "Number of FormAI Files: 106138\n"
     ]
    }
   ],
   "source": [
    "formai = pd.read_csv('../data/FormAI_dataset_human_readable-V1.csv')\n",
    "formai.columns = ['filename', 'vulnerability', 'function', 'line', 'error']\n",
    "\n",
    "formai_category_style = pd.read_csv('../data_extracted/file_category_style.csv')\n",
    "formai = formai.merge(formai_category_style, on='filename')\n",
    "\n",
    "# number of unique filenames\n",
    "print(f\"Number of FormAI Files: {len(formai['filename'].unique())}\")"
   ]
  },
  {
   "cell_type": "code",
   "execution_count": 3,
   "metadata": {},
   "outputs": [
    {
     "name": "stdout",
     "output_type": "stream",
     "text": [
      "Number of Secure FormAI Files: 15915\n"
     ]
    }
   ],
   "source": [
    "secure = pd.read_csv('../data/SECURE_ESBMC.csv')\n",
    "secure_category_style = pd.read_csv('../data_extracted/secure_category_style.csv')\n",
    "secure = secure.merge(secure_category_style, on='filename')\n",
    "\n",
    "# number of unique filenames\n",
    "print(f'Number of Secure FormAI Files: {len(secure.filename.unique())}')"
   ]
  },
  {
   "cell_type": "code",
   "execution_count": 4,
   "metadata": {},
   "outputs": [],
   "source": [
    "def calc_line_numbers(df, directory, file_col='filename'):\n",
    "    return df[file_col].apply(\n",
    "        # subract one for the added header comment\n",
    "        lambda x: len(open(f'{directory}/{x}').read().split('\\n')) - 1\n",
    "    )"
   ]
  },
  {
   "cell_type": "code",
   "execution_count": 5,
   "metadata": {},
   "outputs": [],
   "source": [
    "formai['num_lines'] = calc_line_numbers(formai, '../data/DATASET')\n",
    "secure['num_lines'] = calc_line_numbers(secure, '../data/SECURE')"
   ]
  },
  {
   "cell_type": "markdown",
   "metadata": {},
   "source": [
    "## Calculate vulnerabilities and compare"
   ]
  },
  {
   "cell_type": "code",
   "execution_count": 6,
   "metadata": {},
   "outputs": [],
   "source": [
    "def vulnerabilities_per_category_agg_at_file(df, result_prefix=''):\n",
    "    # calculate vulnerabilities per file \n",
    "    # (function should be n/a for non-vulnerable, making the count 0!)\n",
    "    num_vuln = df.groupby('filename').count().function.reset_index(name='num_vuln')\n",
    "\n",
    "    # calculate number of lines per file, category\n",
    "    num_lines = df \\\n",
    "                .groupby(['filename', 'category', 'style']) \\\n",
    "                .num_lines.min() \\\n",
    "                .reset_index(name='num_lines')\n",
    "\n",
    "    # merge the two\n",
    "    x = num_vuln.merge(num_lines, on='filename')\n",
    "\n",
    "    # calculate vuln / line, file level\n",
    "    x['vuln_per_line'] = x.num_vuln / x.num_lines\n",
    "\n",
    "    # aggregate at the category, style level\n",
    "    vuln_per_line = x.groupby(['category', 'style']).vuln_per_line.mean()\n",
    "    vuln_per_file = x.groupby(['category', 'style']).num_vuln.mean()\n",
    "\n",
    "    # merge the results\n",
    "    o = pd.concat([vuln_per_line, vuln_per_file], axis=1)\n",
    "    o.columns = ['vuln_per_line', 'vuln_per_file']\n",
    "    o.columns = [f'{result_prefix}{c}' for c in o.columns]\n",
    "    return o"
   ]
  },
  {
   "cell_type": "code",
   "execution_count": 7,
   "metadata": {},
   "outputs": [],
   "source": [
    "def vulnerabilities_per_category_agg_at_category(df, result_prefix=''):\n",
    "    # calculate number of vulnerabilities / category\n",
    "    vulnerable_entries = df[df.vulnerability == 'VULNERABLE']\n",
    "    num_vuln = vulnerable_entries.groupby(['category', 'style']).count().filename\n",
    "\n",
    "    # calculate the number of lines / category\n",
    "    num_lines = df \\\n",
    "                .groupby(['filename', 'category', 'style']).num_lines.min() \\\n",
    "                .reset_index(name='num_lines') \\\n",
    "                .groupby(['category', 'style']).sum().num_lines\n",
    "\n",
    "    # calculate the number of files / category\n",
    "    num_files = df.groupby(['category', 'style']).filename.nunique()\n",
    "\n",
    "    # calculate the per-line and per-file metrics\n",
    "    vuln_per_line = num_vuln / num_lines\n",
    "    vuln_per_file = num_vuln / num_files\n",
    "\n",
    "    # merge the results\n",
    "    o = pd.concat([num_vuln, num_lines, num_files, vuln_per_line, vuln_per_file], axis=1)\n",
    "    col_names = ['num_vuln', 'num_lines', 'num_files', 'vuln_per_line', 'vuln_per_file']\n",
    "    col_names = [f'{result_prefix}{c}' for c in col_names]\n",
    "    o.columns = col_names\n",
    "\n",
    "    return o"
   ]
  },
  {
   "cell_type": "code",
   "execution_count": 8,
   "metadata": {},
   "outputs": [],
   "source": [
    "def vulnerabilities_per_category(df, result_prefix='', agg_at='file'):\n",
    "    if agg_at not in ('category', 'file'):\n",
    "        raise ValueError(f'agg_at must be one of (category, file)')\n",
    "    \n",
    "    if agg_at == 'category':\n",
    "        return vulnerabilities_per_category_agg_at_category(df, result_prefix=result_prefix)\n",
    "    \n",
    "    if agg_at == 'file':\n",
    "        return vulnerabilities_per_category_agg_at_file(df, result_prefix=result_prefix)"
   ]
  },
  {
   "cell_type": "code",
   "execution_count": 9,
   "metadata": {},
   "outputs": [],
   "source": [
    "formai_vuln = vulnerabilities_per_category(formai, result_prefix='formai_')\n",
    "secure_vuln = vulnerabilities_per_category(secure, result_prefix='secure_')\n",
    "\n",
    "formai_vuln.reset_index(inplace=True)\n",
    "secure_vuln.reset_index(inplace=True)"
   ]
  },
  {
   "cell_type": "code",
   "execution_count": 10,
   "metadata": {},
   "outputs": [
    {
     "name": "stdout",
     "output_type": "stream",
     "text": [
      "Merged files on category and style, calculated vulnerabilities per file\n",
      "Matched a total of 15889 categories\n"
     ]
    }
   ],
   "source": [
    "df = secure_vuln.merge(formai_vuln, on=['category', 'style']).fillna(0)\n",
    "\n",
    "print(\"Merged files on category and style, calculated vulnerabilities per file\")\n",
    "print(f\"Matched a total of {len(df)} categories\")"
   ]
  },
  {
   "cell_type": "markdown",
   "metadata": {},
   "source": [
    "## Analyze distributions"
   ]
  },
  {
   "cell_type": "markdown",
   "metadata": {},
   "source": [
    "### Summary statistics"
   ]
  },
  {
   "cell_type": "code",
   "execution_count": 11,
   "metadata": {},
   "outputs": [
    {
     "name": "stdout",
     "output_type": "stream",
     "text": [
      "FormAI better (file level): 8524\n",
      "Secure better (file level): 5688\n"
     ]
    }
   ],
   "source": [
    "num_formai_better = sum(df.formai_vuln_per_file > df.secure_vuln_per_file)\n",
    "num_secure_better = sum(df.formai_vuln_per_file < df.secure_vuln_per_file)\n",
    "\n",
    "print(f'FormAI better (file level): {num_formai_better}')\n",
    "print(f'Secure better (file level): {num_secure_better}')"
   ]
  },
  {
   "cell_type": "code",
   "execution_count": 12,
   "metadata": {},
   "outputs": [
    {
     "name": "stdout",
     "output_type": "stream",
     "text": [
      "FormAI better (line level): 9257\n",
      "Secure better (line level): 5321\n"
     ]
    }
   ],
   "source": [
    "num_formai_better = sum(df.formai_vuln_per_line > df.secure_vuln_per_line)\n",
    "num_secure_better = sum(df.formai_vuln_per_line < df.secure_vuln_per_line)\n",
    "\n",
    "print(f'FormAI better (line level): {num_formai_better}')\n",
    "print(f'Secure better (line level): {num_secure_better}')"
   ]
  },
  {
   "cell_type": "code",
   "execution_count": 15,
   "metadata": {},
   "outputs": [
    {
     "name": "stdout",
     "output_type": "stream",
     "text": [
      "FormAI (errors / file): µ = 1.89, σ = 1.95\n",
      "SECURE (errors / file): µ = 2.80, σ = 7.32\n"
     ]
    }
   ],
   "source": [
    "mu_formai = df.formai_vuln_per_file.mean()\n",
    "sigma_formai = df.formai_vuln_per_file.std()\n",
    "\n",
    "mu_secure = df.secure_vuln_per_file.mean()\n",
    "sigma_secure = df.secure_vuln_per_file.std()\n",
    "\n",
    "print(f\"FormAI (errors / file): µ = {mu_formai:.2f}, σ = {sigma_formai:.2f}\")\n",
    "print(f\"SECURE (errors / file): µ = {mu_secure:.2f}, σ = {sigma_secure:.2f}\")"
   ]
  },
  {
   "cell_type": "code",
   "execution_count": 16,
   "metadata": {},
   "outputs": [
    {
     "name": "stdout",
     "output_type": "stream",
     "text": [
      "FormAI (errors / line): µ = 0.027962, σ = 0.029347\n",
      "SECURE (errors / line): µ = 0.034283, σ = 0.087370\n"
     ]
    }
   ],
   "source": [
    "mu_formai = df.formai_vuln_per_line.mean()\n",
    "sigma_formai = df.formai_vuln_per_line.std()\n",
    "\n",
    "mu_secure = df.secure_vuln_per_line.mean()\n",
    "sigma_secure = df.secure_vuln_per_line.std()\n",
    "\n",
    "print(f\"FormAI (errors / line): µ = {mu_formai:.6f}, σ = {sigma_formai:.6f}\")\n",
    "print(f\"SECURE (errors / line): µ = {mu_secure:.6f}, σ = {sigma_secure:.6f}\")"
   ]
  },
  {
   "cell_type": "markdown",
   "metadata": {},
   "source": [
    "### Plotting"
   ]
  },
  {
   "cell_type": "code",
   "execution_count": 18,
   "metadata": {},
   "outputs": [],
   "source": [
    "import matplotlib.pyplot as plt\n",
    "import seaborn as sns\n",
    "sns.set_theme()"
   ]
  },
  {
   "cell_type": "code",
   "execution_count": 19,
   "metadata": {},
   "outputs": [],
   "source": [
    "df_for_dist = []\n",
    "for _, row in df.iterrows():\n",
    "    df_for_dist.append({\n",
    "        'category': row['category'],\n",
    "        'style': row['style'],\n",
    "        'dataset': 'FormAI',\n",
    "        'vuln_per_file': row['formai_vuln_per_file'],\n",
    "        'vuln_per_line': row['formai_vuln_per_line'],\n",
    "    })\n",
    "    df_for_dist.append({\n",
    "        'category': row['category'],\n",
    "        'style': row['style'],\n",
    "        'dataset': 'Secure FormAI',\n",
    "        'vuln_per_file': row['secure_vuln_per_file'],\n",
    "        'vuln_per_line': row['secure_vuln_per_line'],\n",
    "    })\n",
    "\n",
    "df_for_dist = pd.DataFrame(df_for_dist)"
   ]
  },
  {
   "cell_type": "code",
   "execution_count": 20,
   "metadata": {},
   "outputs": [
    {
     "name": "stderr",
     "output_type": "stream",
     "text": [
      "/Users/parth/.pyenv/versions/3.11/envs/cset/lib/python3.11/site-packages/seaborn/axisgrid.py:118: UserWarning: The figure layout has changed to tight\n",
      "  self._figure.tight_layout(*args, **kwargs)\n"
     ]
    },
    {
     "data": {
      "text/plain": [
       "<seaborn.axisgrid.FacetGrid at 0x13b46a390>"
      ]
     },
     "execution_count": 20,
     "metadata": {},
     "output_type": "execute_result"
    },
    {
     "data": {
      "image/png": "[encoded data removed]",
      "text/plain": [
       "<Figure size 657.375x500 with 1 Axes>"
      ]
     },
     "metadata": {},
     "output_type": "display_data"
    }
   ],
   "source": [
    "sns.displot(\n",
    "    df_for_dist,\n",
    "    x='vuln_per_file',\n",
    "    hue='dataset',\n",
    "    kind='kde',\n",
    "    fill=True\n",
    ")"
   ]
  },
  {
   "cell_type": "code",
   "execution_count": 21,
   "metadata": {},
   "outputs": [
    {
     "name": "stderr",
     "output_type": "stream",
     "text": [
      "/Users/parth/.pyenv/versions/3.11/envs/cset/lib/python3.11/site-packages/seaborn/axisgrid.py:118: UserWarning: The figure layout has changed to tight\n",
      "  self._figure.tight_layout(*args, **kwargs)\n"
     ]
    },
    {
     "data": {
      "text/plain": [
       "<seaborn.axisgrid.FacetGrid at 0x13ecf8e90>"
      ]
     },
     "execution_count": 21,
     "metadata": {},
     "output_type": "execute_result"
    },
    {
     "data": {
      "image/png": "[encoded data removed]",
      "text/plain": [
       "<Figure size 500x500 with 1 Axes>"
      ]
     },
     "metadata": {},
     "output_type": "display_data"
    }
   ],
   "source": [
    "sns.displot(\n",
    "    df.secure_vuln_per_file,\n",
    "    kind='kde'\n",
    ")"
   ]
  },
  {
   "cell_type": "code",
   "execution_count": 22,
   "metadata": {},
   "outputs": [
    {
     "name": "stderr",
     "output_type": "stream",
     "text": [
      "/Users/parth/.pyenv/versions/3.11/envs/cset/lib/python3.11/site-packages/seaborn/axisgrid.py:118: UserWarning: The figure layout has changed to tight\n",
      "  self._figure.tight_layout(*args, **kwargs)\n"
     ]
    },
    {
     "data": {
      "text/plain": [
       "<seaborn.axisgrid.FacetGrid at 0x13e90b2d0>"
      ]
     },
     "execution_count": 22,
     "metadata": {},
     "output_type": "execute_result"
    },
    {
     "data": {
      "image/png": "[encoded data removed]",
      "text/plain": [
       "<Figure size 500x500 with 1 Axes>"
      ]
     },
     "metadata": {},
     "output_type": "display_data"
    }
   ],
   "source": [
    "sns.displot(\n",
    "    df.formai_vuln_per_file,\n",
    "    kind='kde'\n",
    ")"
   ]
  },
  {
   "cell_type": "code",
   "execution_count": null,
   "metadata": {},
   "outputs": [],
   "source": [
    "vuln = secure[secure.vulnerability == 'VULNERABLE']\n",
    "vuln.groupby('filename').count().vulnerability.hist(bins=100)"
   ]
  },
  {
   "cell_type": "code",
   "execution_count": null,
   "metadata": {},
   "outputs": [],
   "source": []
  }
 ],
 "metadata": {
  "kernelspec": {
   "display_name": "cset",
   "language": "python",
   "name": "python3"
  },
  "language_info": {
   "codemirror_mode": {
    "name": "ipython",
    "version": 3
   },
   "file_extension": ".py",
   "mimetype": "text/x-python",
   "name": "python",
   "nbconvert_exporter": "python",
   "pygments_lexer": "ipython3",
   "version": "3.11.4"
  },
  "orig_nbformat": 4
 },
 "nbformat": 4,
 "nbformat_minor": 2
}
